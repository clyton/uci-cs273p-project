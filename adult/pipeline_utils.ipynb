{
 "cells": [
  {
   "cell_type": "markdown",
   "metadata": {},
   "source": [
    "# Pipeline Utils"
   ]
  },
  {
   "cell_type": "markdown",
   "metadata": {},
   "source": [
    "## Load Data"
   ]
  },
  {
   "cell_type": "code",
   "execution_count": 14,
   "metadata": {},
   "outputs": [],
   "source": [
    "import data_loader\n",
    "import numpy as np\n",
    "import pandas\n",
    "import joblib\n",
    "import warnings\n",
    "warnings.filterwarnings('ignore')"
   ]
  },
  {
   "cell_type": "code",
   "execution_count": 16,
   "metadata": {},
   "outputs": [],
   "source": [
    "from sklearn.pipeline import make_pipeline\n",
    "from sklearn.pipeline import Pipeline\n",
    "from sklearn.preprocessing import FunctionTransformer\n",
    "from sklearn.impute import MissingIndicator\n",
    "from sklearn.impute import SimpleImputer\n",
    "from sklearn.preprocessing import StandardScaler, OneHotEncoder\n",
    "from sklearn.pipeline import FeatureUnion\n",
    "from sklearn import metrics\n",
    "from sklearn.preprocessing import LabelBinarizer\n",
    "from sklearn.ensemble import VotingClassifier\n",
    "from sklearn.svm import SVC\n",
    "import sklearn.neural_network.multilayer_perceptron as mlp\n",
    "import xgboost as xgb"
   ]
  },
  {
   "cell_type": "code",
   "execution_count": 6,
   "metadata": {},
   "outputs": [],
   "source": [
    "def target_binarizer(Y):\n",
    "    \"\"\"'<50' is set to 0 and the other one is set to 1\"\"\"\n",
    "    lb = LabelBinarizer()\n",
    "    return lb.fit_transform(Y)"
   ]
  },
  {
   "cell_type": "markdown",
   "metadata": {},
   "source": [
    "### Train Data"
   ]
  },
  {
   "cell_type": "code",
   "execution_count": 7,
   "metadata": {},
   "outputs": [],
   "source": [
    "# load data and assign names\n",
    "trdf, valdf = data_loader.load_train_data(\"data/adult.data\", is_df=True)\n",
    "## adding columns labels https://chartio.com/resources/tutorials/how-to-rename-columns-in-the-pandas-python-library/\n",
    "trdf.columns = [\"age\",\"workclass\",\"fnlwgt\",\"education\",\"education-num\",\"marital-status\",\"occupation\",\"relationship\",\"race\",\"sex\",\"capital-gain\",\"capital-loss\",\"hours-per-week\",\"native-country\"\n",
    ",\"target\"]\n",
    "valdf.columns = [\"age\",\"workclass\",\"fnlwgt\",\"education\",\"education-num\",\"marital-status\",\"occupation\",\"relationship\",\"race\",\"sex\",\"capital-gain\",\"capital-loss\",\"hours-per-week\",\"native-country\"\n",
    ",\"target\"]"
   ]
  },
  {
   "cell_type": "code",
   "execution_count": 8,
   "metadata": {},
   "outputs": [],
   "source": [
    "Xtr = trdf.drop('target',axis=1)\n",
    "Ytr = target_binarizer(trdf['target'])"
   ]
  },
  {
   "cell_type": "code",
   "execution_count": 9,
   "metadata": {},
   "outputs": [],
   "source": [
    "Xva = valdf.drop('target', axis=1)\n",
    "Yva = target_binarizer(valdf['target'])\n"
   ]
  },
  {
   "cell_type": "markdown",
   "metadata": {},
   "source": [
    "### Test data"
   ]
  },
  {
   "cell_type": "code",
   "execution_count": 10,
   "metadata": {},
   "outputs": [],
   "source": [
    "# load data and assign names\n",
    "testdf = data_loader.load_test_data(\"data/adult.data\", is_df=True)\n",
    "## adding columns labels https://chartio.com/resources/tutorials/how-to-rename-columns-in-the-pandas-python-library/\n",
    "testdf.columns = [\"age\",\"workclass\",\"fnlwgt\",\"education\",\"education-num\",\"marital-status\",\"occupation\",\"relationship\",\"race\",\"sex\",\"capital-gain\",\"capital-loss\",\"hours-per-week\",\"native-country\"\n",
    ",\"target\"]\n",
    "\n"
   ]
  },
  {
   "cell_type": "code",
   "execution_count": 11,
   "metadata": {},
   "outputs": [
    {
     "name": "stdout",
     "output_type": "stream",
     "text": [
      "(32560, 14)\n",
      "(32560, 1)\n"
     ]
    }
   ],
   "source": [
    "Xts = testdf.drop('target',axis=1)\n",
    "Yts = target_binarizer(testdf['target'])\n",
    "print(Xts.shape)\n",
    "print(Yts.shape)"
   ]
  },
  {
   "cell_type": "markdown",
   "metadata": {},
   "source": [
    "## Pipeline functions"
   ]
  },
  {
   "cell_type": "code",
   "execution_count": 12,
   "metadata": {},
   "outputs": [],
   "source": [
    "def cf_report(p, X, Y):\n",
    "    Xva = X\n",
    "    Yva = Y\n",
    "    Yva_hat = p.predict(Xva)\n",
    "    print(metrics.classification_report(Yva, Yva_hat))\n",
    "    print(metrics.confusion_matrix(Yva, Yva_hat))"
   ]
  },
  {
   "cell_type": "code",
   "execution_count": 13,
   "metadata": {},
   "outputs": [],
   "source": [
    "def auc(pipeline, X, Y):\n",
    "    pred = pipeline.predict(X)\n",
    "    print(pred)\n",
    "    fpr, tpr, thresholds = metrics.roc_curve(Y, pred)\n",
    "    print(\"F1 weighted {}\".format(metrics.f1_score(Y,pred, average='weighted')))\n",
    "    print(\"AUC : {}\".format(metrics.auc(fpr, tpr)))\n",
    "    print(\"Classification report : \")\n",
    "    print(cf_report(pipeline, X,Y))"
   ]
  },
  {
   "cell_type": "code",
   "execution_count": 11,
   "metadata": {},
   "outputs": [],
   "source": [
    "def select_object(X):\n",
    "    return X.select_dtypes(include = [np.object])"
   ]
  },
  {
   "cell_type": "code",
   "execution_count": 12,
   "metadata": {},
   "outputs": [],
   "source": [
    "def select_number(X):\n",
    "    \"\"\"selects all numerical features in the data set\"\"\"\n",
    "    return X.select_dtypes(include= [np.int64, np.float64])"
   ]
  },
  {
   "cell_type": "code",
   "execution_count": 13,
   "metadata": {},
   "outputs": [],
   "source": [
    "def strip_cols(X):\n",
    "    \"\"\"strips whitespaces from the columns\"\"\"\n",
    "    return X.apply(lambda col: col.str.strip())"
   ]
  },
  {
   "cell_type": "code",
   "execution_count": 14,
   "metadata": {},
   "outputs": [],
   "source": [
    "def target_binarizer(Y):\n",
    "    \"\"\"'<50' is set to 0 and the other one is set to 1\"\"\"\n",
    "    lb = LabelBinarizer()\n",
    "    return lb.fit_transform(Y)"
   ]
  },
  {
   "cell_type": "code",
   "execution_count": 15,
   "metadata": {},
   "outputs": [],
   "source": [
    "# references https://www.kaggle.com/baghern/a-deep-dive-into-sklearn-pipelines\n",
    "# references https://scikit-learn.org/stable/auto_examples/preprocessing/plot_function_transformer.html\n",
    "# references https://scikit-learn.org/stable/auto_examples/compose/plot_column_transformer_mixed_types.html#sphx-glr-auto-examples-compose-plot-column-transformer-mixed-types-py\n",
    "\n",
    "stringstrip = Pipeline([\n",
    "                ('selector', FunctionTransformer(select_object,validate=False)),\n",
    "                ('striper', FunctionTransformer(strip_cols, validate=False))\n",
    "            ])\n",
    "numerical_transform = Pipeline([\n",
    "    ('selector', FunctionTransformer(select_number, validate = False)),\n",
    "    ('scaler', StandardScaler()) # use get parameters and set parameters for validation set\n",
    "    ])\n",
    "\n",
    "cat_transformer = Pipeline([\n",
    "    ('stringstriper' , stringstrip ),\n",
    "#     ('missing-indicator', MissingIndicator(missing_values='?', features='all')),\n",
    "    ('imputer', SimpleImputer(missing_values='?', strategy = 'constant', fill_value='MISSING')),\n",
    "     ('one-hot-encoder', OneHotEncoder(handle_unknown='ignore'))\n",
    "     ])"
   ]
  },
  {
   "cell_type": "code",
   "execution_count": 16,
   "metadata": {},
   "outputs": [],
   "source": [
    "def selectcols(X, name = None):\n",
    "    return X[name]"
   ]
  },
  {
   "cell_type": "code",
   "execution_count": 17,
   "metadata": {},
   "outputs": [],
   "source": [
    "a = stringstrip.fit_transform(trdf)"
   ]
  },
  {
   "cell_type": "code",
   "execution_count": 18,
   "metadata": {},
   "outputs": [
    {
     "data": {
      "text/plain": [
       "'Self-emp-not-inc'"
      ]
     },
     "execution_count": 18,
     "metadata": {},
     "output_type": "execute_result"
    }
   ],
   "source": [
    "a['workclass'][1]"
   ]
  },
  {
   "cell_type": "code",
   "execution_count": 19,
   "metadata": {},
   "outputs": [
    {
     "data": {
      "text/plain": [
       "MissingIndicator(error_on_new=True, features='missing-only', missing_values=nan,\n",
       "                 sparse='auto')"
      ]
     },
     "execution_count": 19,
     "metadata": {},
     "output_type": "execute_result"
    }
   ],
   "source": [
    "MissingIndicator()"
   ]
  },
  {
   "cell_type": "code",
   "execution_count": 20,
   "metadata": {},
   "outputs": [],
   "source": [
    "b = numerical_transform.fit_transform(trdf)"
   ]
  },
  {
   "cell_type": "code",
   "execution_count": 21,
   "metadata": {},
   "outputs": [],
   "source": [
    "# cat_transformer.set_params(stringstriper__selector__validate=False)\n",
    "cat = cat_transformer.fit_transform(trdf)"
   ]
  },
  {
   "cell_type": "code",
   "execution_count": 22,
   "metadata": {},
   "outputs": [],
   "source": [
    "preprocess = FeatureUnion([\n",
    "    ('numerical_transform', numerical_transform),\n",
    "    ('cat_transformer', cat_transformer)\n",
    "])\n"
   ]
  }
 ],
 "metadata": {
  "kernelspec": {
   "display_name": "Python 3",
   "language": "python",
   "name": "python3"
  },
  "language_info": {
   "codemirror_mode": {
    "name": "ipython",
    "version": 3
   },
   "file_extension": ".py",
   "mimetype": "text/x-python",
   "name": "python",
   "nbconvert_exporter": "python",
   "pygments_lexer": "ipython3",
   "version": "3.7.1"
  }
 },
 "nbformat": 4,
 "nbformat_minor": 2
}
