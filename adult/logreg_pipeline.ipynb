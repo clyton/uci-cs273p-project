{
 "cells": [
  {
   "cell_type": "markdown",
   "metadata": {},
   "source": [
    "# Logistic Regression Baseline Pipeline"
   ]
  },
  {
   "cell_type": "code",
   "execution_count": 2,
   "metadata": {},
   "outputs": [
    {
     "name": "stdout",
     "output_type": "stream",
     "text": [
      "(32560, 14)\n",
      "(32560, 1)\n"
     ]
    }
   ],
   "source": [
    "%run pipeline_utils.ipynb"
   ]
  },
  {
   "cell_type": "code",
   "execution_count": 3,
   "metadata": {},
   "outputs": [],
   "source": [
    "import warnings\n",
    "warnings.filterwarnings('ignore')"
   ]
  },
  {
   "cell_type": "markdown",
   "metadata": {},
   "source": [
    "## Logistic Regression"
   ]
  },
  {
   "cell_type": "code",
   "execution_count": 4,
   "metadata": {},
   "outputs": [
    {
     "data": {
      "text/plain": [
       "Pipeline(memory=None,\n",
       "         steps=[('preprocess',\n",
       "                 FeatureUnion(n_jobs=None,\n",
       "                              transformer_list=[('numerical_transform',\n",
       "                                                 Pipeline(memory=None,\n",
       "                                                          steps=[('selector',\n",
       "                                                                  FunctionTransformer(accept_sparse=False,\n",
       "                                                                                      check_inverse=True,\n",
       "                                                                                      func=<function select_number at 0x7fe9aea7d6a8>,\n",
       "                                                                                      inv_kw_args=None,\n",
       "                                                                                      inverse_func=None,\n",
       "                                                                                      kw_args=None,\n",
       "                                                                                      pass_y='deprecated',\n",
       "                                                                                      validate=False)),\n",
       "                                                                 ('scaler',\n",
       "                                                                  Sta...\n",
       "                                                                                handle_unknown='ignore',\n",
       "                                                                                n_values=None,\n",
       "                                                                                sparse=True))],\n",
       "                                                          verbose=False))],\n",
       "                              transformer_weights=None, verbose=False)),\n",
       "                ('lg',\n",
       "                 LogisticRegression(C=1.0, class_weight=None, dual=False,\n",
       "                                    fit_intercept=True, intercept_scaling=1,\n",
       "                                    l1_ratio=None, max_iter=100,\n",
       "                                    multi_class='warn', n_jobs=None,\n",
       "                                    penalty='l2', random_state=None,\n",
       "                                    solver='warn', tol=0.0001, verbose=0,\n",
       "                                    warm_start=False))],\n",
       "         verbose=False)"
      ]
     },
     "execution_count": 4,
     "metadata": {},
     "output_type": "execute_result"
    }
   ],
   "source": [
    "from sklearn.linear_model import LogisticRegression\n",
    "lgPipeline = Pipeline([\n",
    "    (\"preprocess\", preprocess),\n",
    "    (\"lg\", LogisticRegression())\n",
    "])\n",
    "lgPipeline.fit(Xtr, Ytr.ravel())"
   ]
  },
  {
   "cell_type": "code",
   "execution_count": 5,
   "metadata": {},
   "outputs": [
    {
     "name": "stdout",
     "output_type": "stream",
     "text": [
      "[0 0 0 ... 0 0 0]\n",
      "F1 weighted 0.8590921415094726\n",
      "AUC : 0.7702461333543904\n",
      "Classification report : \n",
      "              precision    recall  f1-score   support\n",
      "\n",
      "           0       0.88      0.93      0.91     22229\n",
      "           1       0.74      0.61      0.67      7086\n",
      "\n",
      "    accuracy                           0.85     29315\n",
      "   macro avg       0.81      0.77      0.79     29315\n",
      "weighted avg       0.85      0.85      0.85     29315\n",
      "\n",
      "[[20723  1506]\n",
      " [ 2776  4310]]\n",
      "None\n"
     ]
    }
   ],
   "source": [
    "auc(lgPipeline, Xtr, Ytr)"
   ]
  },
  {
   "cell_type": "code",
   "execution_count": 6,
   "metadata": {},
   "outputs": [
    {
     "name": "stdout",
     "output_type": "stream",
     "text": [
      "[0 1 1 ... 0 0 1]\n",
      "F1 weighted 0.8517132010194466\n",
      "AUC : 0.7658157446276794\n",
      "Classification report : \n",
      "              precision    recall  f1-score   support\n",
      "\n",
      "           0       0.89      0.92      0.90      2491\n",
      "           1       0.70      0.61      0.65       755\n",
      "\n",
      "    accuracy                           0.85      3246\n",
      "   macro avg       0.79      0.77      0.78      3246\n",
      "weighted avg       0.84      0.85      0.84      3246\n",
      "\n",
      "[[2291  200]\n",
      " [ 293  462]]\n",
      "None\n"
     ]
    }
   ],
   "source": [
    "auc(lgPipeline, Xva, Yva)"
   ]
  },
  {
   "cell_type": "code",
   "execution_count": 7,
   "metadata": {},
   "outputs": [
    {
     "name": "stdout",
     "output_type": "stream",
     "text": [
      "[0 0 0 ... 0 0 1]\n",
      "F1 weighted 0.858360098246765\n",
      "AUC : 0.7697900527422425\n",
      "Classification report : \n",
      "              precision    recall  f1-score   support\n",
      "\n",
      "           0       0.88      0.93      0.91     24719\n",
      "           1       0.74      0.61      0.67      7841\n",
      "\n",
      "    accuracy                           0.85     32560\n",
      "   macro avg       0.81      0.77      0.79     32560\n",
      "weighted avg       0.85      0.85      0.85     32560\n",
      "\n",
      "[[23013  1706]\n",
      " [ 3069  4772]]\n",
      "None\n"
     ]
    }
   ],
   "source": [
    "auc(lgPipeline, Xts, Yts)"
   ]
  }
 ],
 "metadata": {
  "kernelspec": {
   "display_name": "Python 3",
   "language": "python",
   "name": "python3"
  },
  "language_info": {
   "codemirror_mode": {
    "name": "ipython",
    "version": 3
   },
   "file_extension": ".py",
   "mimetype": "text/x-python",
   "name": "python",
   "nbconvert_exporter": "python",
   "pygments_lexer": "ipython3",
   "version": "3.7.1"
  }
 },
 "nbformat": 4,
 "nbformat_minor": 2
}
