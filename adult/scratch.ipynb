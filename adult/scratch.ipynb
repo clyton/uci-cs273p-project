{
 "cells": [
  {
   "cell_type": "code",
   "execution_count": 1,
   "metadata": {},
   "outputs": [],
   "source": [
    "import data_loader\n",
    "import numpy as np\n",
    "import pandas"
   ]
  },
  {
   "cell_type": "code",
   "execution_count": 2,
   "metadata": {},
   "outputs": [],
   "source": [
    "import warnings\n",
    "warnings.filterwarnings('ignore')"
   ]
  },
  {
   "cell_type": "code",
   "execution_count": 55,
   "metadata": {},
   "outputs": [],
   "source": [
    "# load data and assign names\n",
    "trdf, valdf = data_loader.load_train_data(\"data/adult.data\", is_df=True)\n",
    "## adding columns labels https://chartio.com/resources/tutorials/how-to-rename-columns-in-the-pandas-python-library/\n",
    "trdf.columns = [\"age\",\"workclass\",\"fnlwgt\",\"education\",\"education-num\",\"marital-status\",\"occupation\",\"relationship\",\"race\",\"sex\",\"capital-gain\",\"capital-loss\",\"hours-per-week\",\"native-country\"\n",
    ",\"target\"]\n",
    "valdf.columns = [\"age\",\"workclass\",\"fnlwgt\",\"education\",\"education-num\",\"marital-status\",\"occupation\",\"relationship\",\"race\",\"sex\",\"capital-gain\",\"capital-loss\",\"hours-per-week\",\"native-country\"\n",
    ",\"target\"]"
   ]
  },
  {
   "cell_type": "code",
   "execution_count": 56,
   "metadata": {},
   "outputs": [],
   "source": [
    "Xtr = trdf.drop('target',axis=1)\n",
    "Ytr = target_binarizer(trdf['target'])"
   ]
  },
  {
   "cell_type": "code",
   "execution_count": 58,
   "metadata": {},
   "outputs": [],
   "source": [
    "Xva = valdf.drop('target', axis=1)\n",
    "Yva = target_binarizer(valdf['target'])\n"
   ]
  },
  {
   "cell_type": "markdown",
   "metadata": {},
   "source": [
    "## Test data"
   ]
  },
  {
   "cell_type": "code",
   "execution_count": 59,
   "metadata": {},
   "outputs": [],
   "source": [
    "# load data and assign names\n",
    "testdf = data_loader.load_test_data(\"data/adult.data\", is_df=True)\n",
    "## adding columns labels https://chartio.com/resources/tutorials/how-to-rename-columns-in-the-pandas-python-library/\n",
    "testdf.columns = [\"age\",\"workclass\",\"fnlwgt\",\"education\",\"education-num\",\"marital-status\",\"occupation\",\"relationship\",\"race\",\"sex\",\"capital-gain\",\"capital-loss\",\"hours-per-week\",\"native-country\"\n",
    ",\"target\"]\n",
    "\n"
   ]
  },
  {
   "cell_type": "code",
   "execution_count": 60,
   "metadata": {},
   "outputs": [
    {
     "name": "stdout",
     "output_type": "stream",
     "text": [
      "(32560, 14)\n",
      "(32560, 1)\n"
     ]
    }
   ],
   "source": [
    "Xts = testdf.drop('target',axis=1)\n",
    "Yts = target_binarizer(testdf['target'])\n",
    "print(Xts.shape)\n",
    "print(Yts.shape)"
   ]
  },
  {
   "cell_type": "markdown",
   "metadata": {},
   "source": [
    "# Data Exploration"
   ]
  },
  {
   "cell_type": "markdown",
   "metadata": {},
   "source": [
    "## Test data"
   ]
  },
  {
   "cell_type": "code",
   "execution_count": 4,
   "metadata": {},
   "outputs": [
    {
     "data": {
      "text/plain": [
       "age               0\n",
       "workclass         0\n",
       "fnlwgt            0\n",
       "education         0\n",
       "education-num     0\n",
       "marital-status    0\n",
       "occupation        0\n",
       "relationship      0\n",
       "race              0\n",
       "sex               0\n",
       "capital-gain      0\n",
       "capital-loss      0\n",
       "hours-per-week    0\n",
       "native-country    0\n",
       "target            0\n",
       "dtype: int64"
      ]
     },
     "execution_count": 4,
     "metadata": {},
     "output_type": "execute_result"
    }
   ],
   "source": [
    "trdf.isnull().sum()"
   ]
  },
  {
   "cell_type": "code",
   "execution_count": 5,
   "metadata": {},
   "outputs": [
    {
     "name": "stdout",
     "output_type": "stream",
     "text": [
      "<class 'pandas.core.frame.DataFrame'>\n",
      "Int64Index: 29315 entries, 24337 to 10137\n",
      "Data columns (total 15 columns):\n",
      "age               29315 non-null int64\n",
      "workclass         29315 non-null object\n",
      "fnlwgt            29315 non-null int64\n",
      "education         29315 non-null object\n",
      "education-num     29315 non-null int64\n",
      "marital-status    29315 non-null object\n",
      "occupation        29315 non-null object\n",
      "relationship      29315 non-null object\n",
      "race              29315 non-null object\n",
      "sex               29315 non-null object\n",
      "capital-gain      29315 non-null int64\n",
      "capital-loss      29315 non-null int64\n",
      "hours-per-week    29315 non-null int64\n",
      "native-country    29315 non-null object\n",
      "target            29315 non-null object\n",
      "dtypes: int64(6), object(9)\n",
      "memory usage: 3.6+ MB\n"
     ]
    }
   ],
   "source": [
    "trdf.info()"
   ]
  },
  {
   "cell_type": "code",
   "execution_count": 6,
   "metadata": {},
   "outputs": [],
   "source": [
    "import seaborn as sns"
   ]
  },
  {
   "cell_type": "code",
   "execution_count": 7,
   "metadata": {},
   "outputs": [
    {
     "data": {
      "text/plain": [
       "<matplotlib.axes._subplots.AxesSubplot at 0x23d8bfebf60>"
      ]
     },
     "execution_count": 7,
     "metadata": {},
     "output_type": "execute_result"
    },
    {
     "data": {
      "image/png": "[encoded data removed]",
      "text/plain": [
       "<Figure size 432x288 with 1 Axes>"
      ]
     },
     "metadata": {},
     "output_type": "display_data"
    }
   ],
   "source": [
    "sns.countplot(y='target', data=trdf)"
   ]
  },
  {
   "cell_type": "code",
   "execution_count": 8,
   "metadata": {},
   "outputs": [
    {
     "data": {
      "text/plain": [
       "<matplotlib.axes._subplots.AxesSubplot at 0x23d8c2f6fd0>"
      ]
     },
     "execution_count": 8,
     "metadata": {},
     "output_type": "execute_result"
    },
    {
     "data": {
      "image/png": "[encoded data removed]",
      "text/plain": [
       "<Figure size 432x288 with 1 Axes>"
      ]
     },
     "metadata": {},
     "output_type": "display_data"
    }
   ],
   "source": [
    "sns.countplot(y='sex', hue='target', data=trdf)"
   ]
  },
  {
   "cell_type": "code",
   "execution_count": 9,
   "metadata": {},
   "outputs": [
    {
     "data": {
      "text/plain": [
       "<matplotlib.axes._subplots.AxesSubplot at 0x23d8c36ea20>"
      ]
     },
     "execution_count": 9,
     "metadata": {},
     "output_type": "execute_result"
    },
    {
     "data": {
      "image/png": "[encoded data removed]",
      "text/plain": [
       "<Figure size 432x288 with 1 Axes>"
      ]
     },
     "metadata": {},
     "output_type": "display_data"
    }
   ],
   "source": [
    "sns.countplot(y='workclass', hue='target', data=trdf)"
   ]
  },
  {
   "cell_type": "code",
   "execution_count": 10,
   "metadata": {},
   "outputs": [
    {
     "data": {
      "text/plain": [
       "<matplotlib.axes._subplots.AxesSubplot at 0x23d8c3f8f60>"
      ]
     },
     "execution_count": 10,
     "metadata": {},
     "output_type": "execute_result"
    },
    {
     "data": {
      "image/png": "[encoded data removed]",
      "text/plain": [
       "<Figure size 432x288 with 1 Axes>"
      ]
     },
     "metadata": {},
     "output_type": "display_data"
    }
   ],
   "source": [
    "sns.countplot(y='education', hue='target', data=trdf)"
   ]
  },
  {
   "cell_type": "code",
   "execution_count": 11,
   "metadata": {},
   "outputs": [
    {
     "data": {
      "text/plain": [
       "array([' Doctorate'], dtype=object)"
      ]
     },
     "execution_count": 11,
     "metadata": {},
     "output_type": "execute_result"
    }
   ],
   "source": [
    "trdf[trdf['education-num'] == 16]['education'].unique()"
   ]
  },
  {
   "cell_type": "code",
   "execution_count": 12,
   "metadata": {},
   "outputs": [
    {
     "data": {
      "text/plain": [
       "<matplotlib.axes._subplots.AxesSubplot at 0x23d8c3509b0>"
      ]
     },
     "execution_count": 12,
     "metadata": {},
     "output_type": "execute_result"
    },
    {
     "data": {
      "image/png": "[encoded data removed]",
      "text/plain": [
       "<Figure size 432x288 with 1 Axes>"
      ]
     },
     "metadata": {},
     "output_type": "display_data"
    }
   ],
   "source": [
    "sns.countplot(y='marital-status', hue='target', data=trdf)"
   ]
  },
  {
   "cell_type": "code",
   "execution_count": 13,
   "metadata": {},
   "outputs": [
    {
     "name": "stdout",
     "output_type": "stream",
     "text": [
      "<class 'pandas.core.frame.DataFrame'>\n",
      "Int64Index: 29315 entries, 24337 to 10137\n",
      "Data columns (total 15 columns):\n",
      "age               29315 non-null int64\n",
      "workclass         29315 non-null object\n",
      "fnlwgt            29315 non-null int64\n",
      "education         29315 non-null object\n",
      "education-num     29315 non-null int64\n",
      "marital-status    29315 non-null object\n",
      "occupation        29315 non-null object\n",
      "relationship      29315 non-null object\n",
      "race              29315 non-null object\n",
      "sex               29315 non-null object\n",
      "capital-gain      29315 non-null int64\n",
      "capital-loss      29315 non-null int64\n",
      "hours-per-week    29315 non-null int64\n",
      "native-country    29315 non-null object\n",
      "target            29315 non-null object\n",
      "dtypes: int64(6), object(9)\n",
      "memory usage: 4.8+ MB\n"
     ]
    }
   ],
   "source": [
    "trdf.info()"
   ]
  },
  {
   "cell_type": "markdown",
   "metadata": {},
   "source": [
    "# Data Preprocessing"
   ]
  },
  {
   "cell_type": "markdown",
   "metadata": {},
   "source": [
    "## binning categories"
   ]
  },
  {
   "cell_type": "code",
   "execution_count": 14,
   "metadata": {},
   "outputs": [],
   "source": [
    "trdf['education'].replace(' Preschool', 'dropout',inplace=True)\n",
    "trdf['education'].replace(' 10th', 'dropout',inplace=True)\n",
    "trdf['education'].replace(' 11th', 'dropout',inplace=True)\n",
    "trdf['education'].replace(' 12th', 'dropout',inplace=True)\n",
    "trdf['education'].replace(' 1st-4th', 'dropout',inplace=True)\n",
    "trdf['education'].replace(' 5th-6th', 'dropout',inplace=True)\n",
    "trdf['education'].replace(' 7th-8th', 'dropout',inplace=True)\n",
    "trdf['education'].replace(' 9th', 'dropout',inplace=True)\n",
    "trdf['education'].replace(' HS-Grad', 'HighGrad',inplace=True)\n",
    "trdf['education'].replace(' HS-grad', 'HighGrad',inplace=True)\n",
    "trdf['education'].replace(' Some-college', 'CommunityCollege',inplace=True)\n",
    "trdf['education'].replace(' Assoc-acdm', 'CommunityCollege',inplace=True)\n",
    "trdf['education'].replace(' Assoc-voc', 'CommunityCollege',inplace=True)\n",
    "trdf['education'].replace(' Bachelors', 'Bachelors',inplace=True)\n",
    "trdf['education'].replace(' Masters', 'Masters',inplace=True)\n",
    "trdf['education'].replace(' Prof-school', 'Masters',inplace=True)\n",
    "trdf['education'].replace(' Doctorate', 'Doctorate',inplace=True)"
   ]
  },
  {
   "cell_type": "code",
   "execution_count": 15,
   "metadata": {},
   "outputs": [
    {
     "data": {
      "text/html": [
       "<div>\n",
       "<style scoped>\n",
       "    .dataframe tbody tr th:only-of-type {\n",
       "        vertical-align: middle;\n",
       "    }\n",
       "\n",
       "    .dataframe tbody tr th {\n",
       "        vertical-align: top;\n",
       "    }\n",
       "\n",
       "    .dataframe thead th {\n",
       "        text-align: right;\n",
       "    }\n",
       "</style>\n",
       "<table border=\"1\" class=\"dataframe\">\n",
       "  <thead>\n",
       "    <tr style=\"text-align: right;\">\n",
       "      <th></th>\n",
       "      <th>education</th>\n",
       "      <th>education-num</th>\n",
       "    </tr>\n",
       "  </thead>\n",
       "  <tbody>\n",
       "    <tr>\n",
       "      <th>2</th>\n",
       "      <td>Doctorate</td>\n",
       "      <td>16.000000</td>\n",
       "    </tr>\n",
       "    <tr>\n",
       "      <th>4</th>\n",
       "      <td>Masters</td>\n",
       "      <td>14.251816</td>\n",
       "    </tr>\n",
       "    <tr>\n",
       "      <th>0</th>\n",
       "      <td>Bachelors</td>\n",
       "      <td>13.000000</td>\n",
       "    </tr>\n",
       "    <tr>\n",
       "      <th>1</th>\n",
       "      <td>CommunityCollege</td>\n",
       "      <td>10.361044</td>\n",
       "    </tr>\n",
       "    <tr>\n",
       "      <th>3</th>\n",
       "      <td>HighGrad</td>\n",
       "      <td>9.000000</td>\n",
       "    </tr>\n",
       "    <tr>\n",
       "      <th>5</th>\n",
       "      <td>dropout</td>\n",
       "      <td>5.594433</td>\n",
       "    </tr>\n",
       "  </tbody>\n",
       "</table>\n",
       "</div>"
      ],
      "text/plain": [
       "          education  education-num\n",
       "2         Doctorate      16.000000\n",
       "4           Masters      14.251816\n",
       "0         Bachelors      13.000000\n",
       "1  CommunityCollege      10.361044\n",
       "3          HighGrad       9.000000\n",
       "5           dropout       5.594433"
      ]
     },
     "execution_count": 15,
     "metadata": {},
     "output_type": "execute_result"
    }
   ],
   "source": [
    "trdf[['education', 'education-num']].groupby(['education'], as_index=False).mean().sort_values(by='education-num', ascending=False)"
   ]
  },
  {
   "cell_type": "code",
   "execution_count": 16,
   "metadata": {},
   "outputs": [],
   "source": [
    "trdf['marital-status'].replace(' Never-married', 'NotMarried',inplace=True)\n",
    "trdf['marital-status'].replace([' Married-AF-spouse'], 'Married',inplace=True)\n",
    "trdf['marital-status'].replace([' Married-civ-spouse'], 'Married',inplace=True)\n",
    "trdf['marital-status'].replace([' Married-spouse-absent'], 'NotMarried',inplace=True)\n",
    "trdf['marital-status'].replace([' Separated'], 'Separated',inplace=True)\n",
    "trdf['marital-status'].replace([' Divorced'], 'Separated',inplace=True)\n",
    "trdf['marital-status'].replace([' Widowed'], 'Widowed',inplace=True)\n"
   ]
  },
  {
   "cell_type": "code",
   "execution_count": 17,
   "metadata": {},
   "outputs": [],
   "source": [
    "valdf['education'].replace(' Preschool', 'dropout',inplace=True)\n",
    "valdf['education'].replace(' 10th', 'dropout',inplace=True)\n",
    "valdf['education'].replace(' 11th', 'dropout',inplace=True)\n",
    "valdf['education'].replace(' 12th', 'dropout',inplace=True)\n",
    "valdf['education'].replace(' 1st-4th', 'dropout',inplace=True)\n",
    "valdf['education'].replace(' 5th-6th', 'dropout',inplace=True)\n",
    "valdf['education'].replace(' 7th-8th', 'dropout',inplace=True)\n",
    "valdf['education'].replace(' 9th', 'dropout',inplace=True)\n",
    "valdf['education'].replace(' HS-Grad', 'HighGrad',inplace=True)\n",
    "valdf['education'].replace(' HS-grad', 'HighGrad',inplace=True)\n",
    "valdf['education'].replace(' Some-college', 'CommunityCollege',inplace=True)\n",
    "valdf['education'].replace(' Assoc-acdm', 'CommunityCollege',inplace=True)\n",
    "valdf['education'].replace(' Assoc-voc', 'CommunityCollege',inplace=True)\n",
    "valdf['education'].replace(' Bachelors', 'Bachelors',inplace=True)\n",
    "valdf['education'].replace(' Masters', 'Masters',inplace=True)\n",
    "valdf['education'].replace(' Prof-school', 'Masters',inplace=True)\n",
    "valdf['education'].replace(' Doctorate', 'Doctorate',inplace=True)\n",
    "valdf['marital-status'].replace(' Never-married', 'NotMarried',inplace=True)\n",
    "valdf['marital-status'].replace([' Married-AF-spouse'], 'Married',inplace=True)\n",
    "valdf['marital-status'].replace([' Married-civ-spouse'], 'Married',inplace=True)\n",
    "valdf['marital-status'].replace([' Married-spouse-absent'], 'NotMarried',inplace=True)\n",
    "valdf['marital-status'].replace([' Separated'], 'Separated',inplace=True)\n",
    "valdf['marital-status'].replace([' Divorced'], 'Separated',inplace=True)\n",
    "valdf['marital-status'].replace([' Widowed'], 'Widowed',inplace=True)\n"
   ]
  },
  {
   "cell_type": "code",
   "execution_count": 18,
   "metadata": {},
   "outputs": [],
   "source": [
    "def cvscore(learner):\n",
    "    from sklearn.model_selection import cross_val_score\n",
    "    score_ppn=cross_val_score(learner, valdf.iloc[:,0:14],  valdf.iloc[:,14], cv=5)\n",
    "    return score_ppn.mean()"
   ]
  },
  {
   "cell_type": "code",
   "execution_count": 19,
   "metadata": {},
   "outputs": [],
   "source": [
    "def auc(learner):\n",
    "    from sklearn import metrics\n",
    "#     learner.score(valdf.iloc[:,0:14],  valdf.iloc[:,14])\n",
    "    pred = learner.predict(valdf.iloc[:,0:14])\n",
    "    fpr, tpr, thresholds = metrics.roc_curve(valdf.iloc[:,14], pred)\n",
    "    return metrics.auc(fpr, tpr)"
   ]
  },
  {
   "cell_type": "code",
   "execution_count": 20,
   "metadata": {},
   "outputs": [],
   "source": [
    "catcols = [1,3,5,6,7,8,9,13,14] # list of categorical features\n",
    "trdf.iloc[:,catcols] = trdf.iloc[:,catcols].astype('category')\n",
    "\n",
    "trdf.iloc[:,catcols] = trdf.iloc[:,catcols].apply(lambda x: x.cat.codes)\n",
    "# trdf\n",
    "# trdf[1].cat.codes"
   ]
  },
  {
   "cell_type": "code",
   "execution_count": 21,
   "metadata": {},
   "outputs": [
    {
     "data": {
      "text/plain": [
       "(3246, 15)"
      ]
     },
     "execution_count": 21,
     "metadata": {},
     "output_type": "execute_result"
    }
   ],
   "source": [
    "valdf.iloc[:,catcols] = valdf.iloc[:,catcols].astype('category')\n",
    "valdf.iloc[:,catcols] = valdf.iloc[:,catcols].apply(lambda x: x.cat.codes)\n",
    "# trdf\n",
    "# trdf[1].cat.codes\n",
    "valdf.shape"
   ]
  },
  {
   "cell_type": "code",
   "execution_count": 22,
   "metadata": {},
   "outputs": [
    {
     "data": {
      "text/plain": [
       "array([0, 1, 1, ..., 0, 0, 1], dtype=int8)"
      ]
     },
     "execution_count": 22,
     "metadata": {},
     "output_type": "execute_result"
    }
   ],
   "source": [
    "from sklearn.neighbors import KNeighborsClassifier\n",
    "model = KNeighborsClassifier(n_neighbors=3)\n",
    "learner = model.fit(trdf.iloc[:,0:14], trdf.iloc[:,14])\n",
    "learner.predict(valdf.iloc[:,0:14])"
   ]
  },
  {
   "cell_type": "code",
   "execution_count": 23,
   "metadata": {},
   "outputs": [
    {
     "data": {
      "text/plain": [
       "0.7507701786814541"
      ]
     },
     "execution_count": 23,
     "metadata": {},
     "output_type": "execute_result"
    }
   ],
   "source": [
    "learner.score(valdf.iloc[:,0:14], valdf.iloc[:,14])"
   ]
  },
  {
   "cell_type": "code",
   "execution_count": 24,
   "metadata": {},
   "outputs": [
    {
     "data": {
      "text/plain": [
       "0.6160814694489566"
      ]
     },
     "execution_count": 24,
     "metadata": {},
     "output_type": "execute_result"
    }
   ],
   "source": [
    "auc(learner)"
   ]
  },
  {
   "cell_type": "code",
   "execution_count": 25,
   "metadata": {},
   "outputs": [],
   "source": [
    "import xgboost as xgb\n",
    "\n",
    "model = xgb.XGBClassifier()\n",
    "learner = model.fit(trdf.iloc[:,0:14], trdf.iloc[:,14])\n",
    "\n"
   ]
  },
  {
   "cell_type": "code",
   "execution_count": 26,
   "metadata": {},
   "outputs": [
    {
     "ename": "KeyboardInterrupt",
     "evalue": "",
     "output_type": "error",
     "traceback": [
      "\u001b[1;31m---------------------------------------------------------------------------\u001b[0m",
      "\u001b[1;31mKeyboardInterrupt\u001b[0m                         Traceback (most recent call last)",
      "\u001b[1;32m<ipython-input-26-114cad2ccdb1>\u001b[0m in \u001b[0;36m<module>\u001b[1;34m()\u001b[0m\n\u001b[1;32m----> 1\u001b[1;33m \u001b[0mauc\u001b[0m\u001b[1;33m(\u001b[0m\u001b[0mlearner\u001b[0m\u001b[1;33m)\u001b[0m\u001b[1;33m\u001b[0m\u001b[0m\n\u001b[0m",
      "\u001b[1;32m<ipython-input-19-2ec1b3cd7f0b>\u001b[0m in \u001b[0;36mauc\u001b[1;34m(learner)\u001b[0m\n\u001b[0;32m      2\u001b[0m     \u001b[1;32mfrom\u001b[0m \u001b[0msklearn\u001b[0m \u001b[1;32mimport\u001b[0m \u001b[0mmetrics\u001b[0m\u001b[1;33m\u001b[0m\u001b[0m\n\u001b[0;32m      3\u001b[0m \u001b[1;31m#     learner.score(valdf.iloc[:,0:14],  valdf.iloc[:,14])\u001b[0m\u001b[1;33m\u001b[0m\u001b[1;33m\u001b[0m\u001b[0m\n\u001b[1;32m----> 4\u001b[1;33m     \u001b[0mpred\u001b[0m \u001b[1;33m=\u001b[0m \u001b[0mlearner\u001b[0m\u001b[1;33m.\u001b[0m\u001b[0mpredict\u001b[0m\u001b[1;33m(\u001b[0m\u001b[0mvaldf\u001b[0m\u001b[1;33m.\u001b[0m\u001b[0miloc\u001b[0m\u001b[1;33m[\u001b[0m\u001b[1;33m:\u001b[0m\u001b[1;33m,\u001b[0m\u001b[1;36m0\u001b[0m\u001b[1;33m:\u001b[0m\u001b[1;36m14\u001b[0m\u001b[1;33m]\u001b[0m\u001b[1;33m)\u001b[0m\u001b[1;33m\u001b[0m\u001b[0m\n\u001b[0m\u001b[0;32m      5\u001b[0m     \u001b[0mfpr\u001b[0m\u001b[1;33m,\u001b[0m \u001b[0mtpr\u001b[0m\u001b[1;33m,\u001b[0m \u001b[0mthresholds\u001b[0m \u001b[1;33m=\u001b[0m \u001b[0mmetrics\u001b[0m\u001b[1;33m.\u001b[0m\u001b[0mroc_curve\u001b[0m\u001b[1;33m(\u001b[0m\u001b[0mvaldf\u001b[0m\u001b[1;33m.\u001b[0m\u001b[0miloc\u001b[0m\u001b[1;33m[\u001b[0m\u001b[1;33m:\u001b[0m\u001b[1;33m,\u001b[0m\u001b[1;36m14\u001b[0m\u001b[1;33m]\u001b[0m\u001b[1;33m,\u001b[0m \u001b[0mpred\u001b[0m\u001b[1;33m)\u001b[0m\u001b[1;33m\u001b[0m\u001b[0m\n\u001b[0;32m      6\u001b[0m     \u001b[1;32mreturn\u001b[0m \u001b[0mmetrics\u001b[0m\u001b[1;33m.\u001b[0m\u001b[0mauc\u001b[0m\u001b[1;33m(\u001b[0m\u001b[0mfpr\u001b[0m\u001b[1;33m,\u001b[0m \u001b[0mtpr\u001b[0m\u001b[1;33m)\u001b[0m\u001b[1;33m\u001b[0m\u001b[0m\n",
      "\u001b[1;32m~\\Anaconda3\\lib\\site-packages\\xgboost\\sklearn.py\u001b[0m in \u001b[0;36mpredict\u001b[1;34m(self, data, output_margin, ntree_limit)\u001b[0m\n\u001b[0;32m    644\u001b[0m         class_probs = self.get_booster().predict(test_dmatrix,\n\u001b[0;32m    645\u001b[0m                                                  \u001b[0moutput_margin\u001b[0m\u001b[1;33m=\u001b[0m\u001b[0moutput_margin\u001b[0m\u001b[1;33m,\u001b[0m\u001b[1;33m\u001b[0m\u001b[0m\n\u001b[1;32m--> 646\u001b[1;33m                                                  ntree_limit=ntree_limit)\n\u001b[0m\u001b[0;32m    647\u001b[0m         \u001b[1;32mif\u001b[0m \u001b[0mlen\u001b[0m\u001b[1;33m(\u001b[0m\u001b[0mclass_probs\u001b[0m\u001b[1;33m.\u001b[0m\u001b[0mshape\u001b[0m\u001b[1;33m)\u001b[0m \u001b[1;33m>\u001b[0m \u001b[1;36m1\u001b[0m\u001b[1;33m:\u001b[0m\u001b[1;33m\u001b[0m\u001b[0m\n\u001b[0;32m    648\u001b[0m             \u001b[0mcolumn_indexes\u001b[0m \u001b[1;33m=\u001b[0m \u001b[0mnp\u001b[0m\u001b[1;33m.\u001b[0m\u001b[0margmax\u001b[0m\u001b[1;33m(\u001b[0m\u001b[0mclass_probs\u001b[0m\u001b[1;33m,\u001b[0m \u001b[0maxis\u001b[0m\u001b[1;33m=\u001b[0m\u001b[1;36m1\u001b[0m\u001b[1;33m)\u001b[0m\u001b[1;33m\u001b[0m\u001b[0m\n",
      "\u001b[1;32m~\\Anaconda3\\lib\\site-packages\\xgboost\\core.py\u001b[0m in \u001b[0;36mpredict\u001b[1;34m(self, data, output_margin, ntree_limit, pred_leaf, pred_contribs, approx_contribs, pred_interactions, validate_features)\u001b[0m\n\u001b[0;32m   1200\u001b[0m                                           \u001b[0mctypes\u001b[0m\u001b[1;33m.\u001b[0m\u001b[0mc_uint\u001b[0m\u001b[1;33m(\u001b[0m\u001b[0mntree_limit\u001b[0m\u001b[1;33m)\u001b[0m\u001b[1;33m,\u001b[0m\u001b[1;33m\u001b[0m\u001b[0m\n\u001b[0;32m   1201\u001b[0m                                           \u001b[0mctypes\u001b[0m\u001b[1;33m.\u001b[0m\u001b[0mbyref\u001b[0m\u001b[1;33m(\u001b[0m\u001b[0mlength\u001b[0m\u001b[1;33m)\u001b[0m\u001b[1;33m,\u001b[0m\u001b[1;33m\u001b[0m\u001b[0m\n\u001b[1;32m-> 1202\u001b[1;33m                                           ctypes.byref(preds)))\n\u001b[0m\u001b[0;32m   1203\u001b[0m         \u001b[0mpreds\u001b[0m \u001b[1;33m=\u001b[0m \u001b[0mctypes2numpy\u001b[0m\u001b[1;33m(\u001b[0m\u001b[0mpreds\u001b[0m\u001b[1;33m,\u001b[0m \u001b[0mlength\u001b[0m\u001b[1;33m.\u001b[0m\u001b[0mvalue\u001b[0m\u001b[1;33m,\u001b[0m \u001b[0mnp\u001b[0m\u001b[1;33m.\u001b[0m\u001b[0mfloat32\u001b[0m\u001b[1;33m)\u001b[0m\u001b[1;33m\u001b[0m\u001b[0m\n\u001b[0;32m   1204\u001b[0m         \u001b[1;32mif\u001b[0m \u001b[0mpred_leaf\u001b[0m\u001b[1;33m:\u001b[0m\u001b[1;33m\u001b[0m\u001b[0m\n",
      "\u001b[1;31mKeyboardInterrupt\u001b[0m: "
     ]
    }
   ],
   "source": [
    "auc(learner)"
   ]
  },
  {
   "cell_type": "code",
   "execution_count": null,
   "metadata": {},
   "outputs": [],
   "source": [
    "cvscore(learner)"
   ]
  },
  {
   "cell_type": "code",
   "execution_count": null,
   "metadata": {},
   "outputs": [],
   "source": [
    "learner.score(valdf.iloc[:,0:14],  valdf.iloc[:,14])"
   ]
  },
  {
   "cell_type": "code",
   "execution_count": null,
   "metadata": {},
   "outputs": [],
   "source": [
    "import sklearn.neural_network.multilayer_perceptron as mlp\n",
    "model = mlp.MLPClassifier()\n",
    "learner = model.fit(trdf.iloc[:,0:14], trdf.iloc[:,14])\n",
    "learner.predict(valdf.iloc[:,0:14])"
   ]
  },
  {
   "cell_type": "code",
   "execution_count": null,
   "metadata": {},
   "outputs": [],
   "source": [
    "learner.score(valdf.iloc[:,0:14],  valdf.iloc[:,14])"
   ]
  },
  {
   "cell_type": "code",
   "execution_count": null,
   "metadata": {},
   "outputs": [],
   "source": [
    "auc(learner)"
   ]
  },
  {
   "cell_type": "code",
   "execution_count": null,
   "metadata": {},
   "outputs": [],
   "source": [
    "cvscore(learner)"
   ]
  },
  {
   "cell_type": "code",
   "execution_count": null,
   "metadata": {},
   "outputs": [],
   "source": [
    "import pickle\n",
    "from sklearn.externals import joblib"
   ]
  },
  {
   "cell_type": "code",
   "execution_count": null,
   "metadata": {},
   "outputs": [],
   "source": [
    "joblib.dump(learner, 'mlp.joblib')"
   ]
  },
  {
   "cell_type": "code",
   "execution_count": null,
   "metadata": {},
   "outputs": [],
   "source": [
    "# load data and assign names\n",
    "trdf, valdf = data_loader.load_train_data(\"data/adult.data\", is_df=True)\n",
    "## adding columns labels https://chartio.com/resources/tutorials/how-to-rename-columns-in-the-pandas-python-library/\n",
    "trdf.columns = [\"age\",\"workclass\",\"fnlwgt\",\"education\",\"education-num\",\"marital-status\",\"occupation\",\"relationship\",\"race\",\"sex\",\"capital-gain\",\"capital-loss\",\"hours-per-week\",\"native-country\"\n",
    ",\"target\"]\n",
    "valdf.columns = [\"age\",\"workclass\",\"fnlwgt\",\"education\",\"education-num\",\"marital-status\",\"occupation\",\"relationship\",\"race\",\"sex\",\"capital-gain\",\"capital-loss\",\"hours-per-week\",\"native-country\"\n",
    ",\"target\"]"
   ]
  },
  {
   "cell_type": "markdown",
   "metadata": {},
   "source": [
    "# Pipelines\n",
    "\n"
   ]
  },
  {
   "cell_type": "code",
   "execution_count": 61,
   "metadata": {},
   "outputs": [],
   "source": [
    "from sklearn.pipeline import make_pipeline\n",
    "from sklearn.pipeline import Pipeline\n",
    "from sklearn.preprocessing import FunctionTransformer\n",
    "from sklearn.impute import MissingIndicator\n",
    "from sklearn.impute import SimpleImputer\n",
    "from sklearn.preprocessing import StandardScaler, OneHotEncoder\n",
    "from sklearn.pipeline import FeatureUnion\n",
    "from sklearn import metrics\n",
    "from sklearn.preprocessing import LabelBinarizer\n",
    "import sklearn.neural_network.multilayer_perceptron as mlp\n",
    "import xgboost as xgb"
   ]
  },
  {
   "cell_type": "code",
   "execution_count": 62,
   "metadata": {},
   "outputs": [],
   "source": [
    "# load data and assign names\n",
    "trdf, valdf = data_loader.load_train_data(\"data/adult.data\", is_df=True)\n",
    "## adding columns labels https://chartio.com/resources/tutorials/how-to-rename-columns-in-the-pandas-python-library/\n",
    "trdf.columns = [\"age\",\"workclass\",\"fnlwgt\",\"education\",\"education-num\",\"marital-status\",\"occupation\",\"relationship\",\"race\",\"sex\",\"capital-gain\",\"capital-loss\",\"hours-per-week\",\"native-country\"\n",
    ",\"target\"]\n",
    "valdf.columns = [\"age\",\"workclass\",\"fnlwgt\",\"education\",\"education-num\",\"marital-status\",\"occupation\",\"relationship\",\"race\",\"sex\",\"capital-gain\",\"capital-loss\",\"hours-per-week\",\"native-country\"\n",
    ",\"target\"]"
   ]
  },
  {
   "cell_type": "code",
   "execution_count": 63,
   "metadata": {},
   "outputs": [],
   "source": [
    "Xtr = trdf.drop('target',axis=1)\n",
    "Ytr = target_binarizer(trdf['target'])"
   ]
  },
  {
   "cell_type": "code",
   "execution_count": 65,
   "metadata": {},
   "outputs": [],
   "source": [
    "Xva = valdf.drop('target', axis=1)\n",
    "Yva = target_binarizer(valdf['target'])\n"
   ]
  },
  {
   "cell_type": "markdown",
   "metadata": {},
   "source": [
    "## Test data"
   ]
  },
  {
   "cell_type": "code",
   "execution_count": 66,
   "metadata": {},
   "outputs": [],
   "source": [
    "# load data and assign names\n",
    "testdf = data_loader.load_test_data(\"data/adult.data\", is_df=True)\n",
    "## adding columns labels https://chartio.com/resources/tutorials/how-to-rename-columns-in-the-pandas-python-library/\n",
    "testdf.columns = [\"age\",\"workclass\",\"fnlwgt\",\"education\",\"education-num\",\"marital-status\",\"occupation\",\"relationship\",\"race\",\"sex\",\"capital-gain\",\"capital-loss\",\"hours-per-week\",\"native-country\"\n",
    ",\"target\"]\n",
    "\n"
   ]
  },
  {
   "cell_type": "code",
   "execution_count": 110,
   "metadata": {},
   "outputs": [
    {
     "name": "stdout",
     "output_type": "stream",
     "text": [
      "(32560, 14)\n",
      "(32560, 1)\n"
     ]
    }
   ],
   "source": [
    "Xts = testdf.drop('target',axis=1)\n",
    "Yts = target_binarizer(testdf['target'])\n",
    "print(Xts.shape)\n",
    "print(Yts.shape)"
   ]
  },
  {
   "cell_type": "markdown",
   "metadata": {},
   "source": [
    "# Pipeline functions"
   ]
  },
  {
   "cell_type": "code",
   "execution_count": 90,
   "metadata": {},
   "outputs": [],
   "source": [
    "def auc(pipeline, X, Y):\n",
    "    pred = pipeline.predict(X)\n",
    "    print(pred)\n",
    "    fpr, tpr, thresholds = metrics.roc_curve(Y, pred)\n",
    "    print(metrics.f1_score(pred,Y,average='weighted'))\n",
    "    return metrics.auc(fpr, tpr)"
   ]
  },
  {
   "cell_type": "code",
   "execution_count": 91,
   "metadata": {},
   "outputs": [],
   "source": [
    "def select_object(X):\n",
    "    return X.select_dtypes(include = [np.object])"
   ]
  },
  {
   "cell_type": "code",
   "execution_count": 92,
   "metadata": {},
   "outputs": [],
   "source": [
    "def select_number(X):\n",
    "    \"\"\"selects all numerical features in the data set\"\"\"\n",
    "    return X.select_dtypes(include= [np.int64, np.float64])"
   ]
  },
  {
   "cell_type": "code",
   "execution_count": 93,
   "metadata": {},
   "outputs": [],
   "source": [
    "def strip_cols(X):\n",
    "    \"\"\"strips whitespaces from the columns\"\"\"\n",
    "    return X.apply(lambda col: col.str.strip())"
   ]
  },
  {
   "cell_type": "code",
   "execution_count": 94,
   "metadata": {},
   "outputs": [],
   "source": [
    "def target_binarizer(Y):\n",
    "    \"\"\"'<50' is set to 0 and the other one is set to 1\"\"\"\n",
    "    lb = LabelBinarizer()\n",
    "    return lb.fit_transform(Y)"
   ]
  },
  {
   "cell_type": "code",
   "execution_count": 95,
   "metadata": {},
   "outputs": [],
   "source": [
    "# references https://www.kaggle.com/baghern/a-deep-dive-into-sklearn-pipelines\n",
    "# references https://scikit-learn.org/stable/auto_examples/preprocessing/plot_function_transformer.html\n",
    "# references https://scikit-learn.org/stable/auto_examples/compose/plot_column_transformer_mixed_types.html#sphx-glr-auto-examples-compose-plot-column-transformer-mixed-types-py\n",
    "\n",
    "stringstrip = Pipeline([\n",
    "                ('selector', FunctionTransformer(select_object,validate=False)),\n",
    "                ('striper', FunctionTransformer(strip_cols, validate=False))\n",
    "            ])\n",
    "numerical_transform = Pipeline([\n",
    "    ('selector', FunctionTransformer(select_number, validate = False)),\n",
    "    ('scaler', StandardScaler()) # use get parameters and set parameters for validation set\n",
    "    ])\n",
    "\n",
    "cat_transformer = Pipeline([\n",
    "    ('stringstriper' , stringstrip ),\n",
    "#     ('missing-indicator', MissingIndicator(missing_values='?', features='all')),\n",
    "    ('imputer', SimpleImputer(missing_values='?', strategy = 'constant', fill_value='MISSING')),\n",
    "     ('one-hot-encoder', OneHotEncoder(handle_unknown='ignore'))\n",
    "     ])"
   ]
  },
  {
   "cell_type": "code",
   "execution_count": 96,
   "metadata": {},
   "outputs": [],
   "source": [
    "def selectcols(X, name = None):\n",
    "    return X[name]"
   ]
  },
  {
   "cell_type": "code",
   "execution_count": 98,
   "metadata": {},
   "outputs": [],
   "source": [
    "a = stringstrip.fit_transform(trdf)"
   ]
  },
  {
   "cell_type": "code",
   "execution_count": 99,
   "metadata": {},
   "outputs": [
    {
     "data": {
      "text/plain": [
       "'Self-emp-not-inc'"
      ]
     },
     "execution_count": 99,
     "metadata": {},
     "output_type": "execute_result"
    }
   ],
   "source": [
    "a['workclass'][1]"
   ]
  },
  {
   "cell_type": "code",
   "execution_count": 100,
   "metadata": {},
   "outputs": [
    {
     "data": {
      "text/plain": [
       "MissingIndicator(error_on_new=True, features='missing-only', missing_values=nan,\n",
       "                 sparse='auto')"
      ]
     },
     "execution_count": 100,
     "metadata": {},
     "output_type": "execute_result"
    }
   ],
   "source": [
    "MissingIndicator()"
   ]
  },
  {
   "cell_type": "code",
   "execution_count": 101,
   "metadata": {},
   "outputs": [],
   "source": [
    "b = numerical_transform.fit_transform(trdf)"
   ]
  },
  {
   "cell_type": "code",
   "execution_count": 102,
   "metadata": {},
   "outputs": [
    {
     "data": {
      "text/plain": [
       "array([[ 1.71697735, -1.14599312, -0.41574997, -0.14670382, -0.21764517,\n",
       "        -0.03598859],\n",
       "       [ 0.83682386,  0.2514202 , -0.41574997, -0.14670382, -0.21764517,\n",
       "        -0.03598859],\n",
       "       [-0.19002188, -0.03790628, -0.41574997, -0.14670382, -0.21764517,\n",
       "         0.77624144],\n",
       "       ...,\n",
       "       [-0.63009863,  0.07705808, -0.41574997, -0.14670382, -0.21764517,\n",
       "        -0.03598859],\n",
       "       [-1.36355987, -1.50979622, -0.02766812, -0.14670382, -0.21764517,\n",
       "        -0.03598859],\n",
       "       [ 0.91016998, -1.43953865, -0.41574997, -0.14670382, -0.21764517,\n",
       "         3.21293154]])"
      ]
     },
     "execution_count": 102,
     "metadata": {},
     "output_type": "execute_result"
    }
   ],
   "source": [
    "b"
   ]
  },
  {
   "cell_type": "code",
   "execution_count": 103,
   "metadata": {},
   "outputs": [],
   "source": [
    "# cat_transformer.set_params(stringstriper__selector__validate=False)\n",
    "cat = cat_transformer.fit_transform(trdf)"
   ]
  },
  {
   "cell_type": "code",
   "execution_count": 104,
   "metadata": {},
   "outputs": [],
   "source": [
    "preprocess = FeatureUnion([\n",
    "    ('numerical_transform', numerical_transform),\n",
    "    ('cat_transformer', cat_transformer)\n",
    "])\n"
   ]
  },
  {
   "cell_type": "code",
   "execution_count": 117,
   "metadata": {},
   "outputs": [],
   "source": [
    "mlpPipeline = Pipeline([\n",
    "    ('preprocess', preprocess),\n",
    "    ('mlp', mlp.MLPClassifier())\n",
    "])"
   ]
  },
  {
   "cell_type": "code",
   "execution_count": 119,
   "metadata": {},
   "outputs": [
    {
     "name": "stderr",
     "output_type": "stream",
     "text": [
      "C:\\Users\\Kevin\\Anaconda3\\lib\\site-packages\\sklearn\\neural_network\\multilayer_perceptron.py:566: ConvergenceWarning: Stochastic Optimizer: Maximum iterations (200) reached and the optimization hasn't converged yet.\n",
      "  % self.max_iter, ConvergenceWarning)\n"
     ]
    },
    {
     "data": {
      "text/plain": [
       "Pipeline(memory=None,\n",
       "         steps=[('preprocess',\n",
       "                 FeatureUnion(n_jobs=None,\n",
       "                              transformer_list=[('numerical_transform',\n",
       "                                                 Pipeline(memory=None,\n",
       "                                                          steps=[('selector',\n",
       "                                                                  FunctionTransformer(accept_sparse=False,\n",
       "                                                                                      check_inverse=True,\n",
       "                                                                                      func=<function select_number at 0x0000023D92815048>,\n",
       "                                                                                      inv_kw_args=None,\n",
       "                                                                                      inverse_func=None,\n",
       "                                                                                      kw_args=None,\n",
       "                                                                                      pass_y='deprecated',\n",
       "                                                                                      validate=False)),\n",
       "                                                                 ('scaler'...\n",
       "                               batch_size='auto', beta_1=0.9, beta_2=0.999,\n",
       "                               early_stopping=False, epsilon=1e-08,\n",
       "                               hidden_layer_sizes=(100,),\n",
       "                               learning_rate='constant',\n",
       "                               learning_rate_init=0.001, max_iter=200,\n",
       "                               momentum=0.9, n_iter_no_change=10,\n",
       "                               nesterovs_momentum=True, power_t=0.5,\n",
       "                               random_state=None, shuffle=True, solver='adam',\n",
       "                               tol=0.0001, validation_fraction=0.1,\n",
       "                               verbose=False, warm_start=False))],\n",
       "         verbose=False)"
      ]
     },
     "execution_count": 119,
     "metadata": {},
     "output_type": "execute_result"
    }
   ],
   "source": [
    "mlpPipeline.fit(Xtr,Ytr.ravel())"
   ]
  },
  {
   "cell_type": "code",
   "execution_count": 127,
   "metadata": {},
   "outputs": [
    {
     "name": "stdout",
     "output_type": "stream",
     "text": [
      "[0 0 1 ... 0 0 0]\n",
      "0.9056237327479435\n"
     ]
    },
    {
     "data": {
      "text/plain": [
       "0.8434495197000478"
      ]
     },
     "execution_count": 127,
     "metadata": {},
     "output_type": "execute_result"
    }
   ],
   "source": [
    "auc(mlpPipeline, Xtr, Ytr)"
   ]
  },
  {
   "cell_type": "code",
   "execution_count": 129,
   "metadata": {},
   "outputs": [
    {
     "name": "stdout",
     "output_type": "stream",
     "text": [
      "[0 0 1 ... 0 0 1]\n",
      "0.8387915548119774\n"
     ]
    },
    {
     "data": {
      "text/plain": [
       "0.7511247112120188"
      ]
     },
     "execution_count": 129,
     "metadata": {},
     "output_type": "execute_result"
    }
   ],
   "source": [
    "auc(mlpPipeline, Xva, Yva)"
   ]
  },
  {
   "cell_type": "code",
   "execution_count": 128,
   "metadata": {},
   "outputs": [
    {
     "name": "stdout",
     "output_type": "stream",
     "text": [
      "[0 0 0 ... 0 0 1]\n",
      "0.8990032839330299\n"
     ]
    },
    {
     "data": {
      "text/plain": [
       "0.834447126010089"
      ]
     },
     "execution_count": 128,
     "metadata": {},
     "output_type": "execute_result"
    }
   ],
   "source": [
    "auc(mlpPipeline, Xts, Yts)"
   ]
  },
  {
   "cell_type": "code",
   "execution_count": 130,
   "metadata": {},
   "outputs": [],
   "source": [
    "xgbPipeline = Pipeline([\n",
    "    (\"preprocess\", preprocess),\n",
    "    (\"xgb\", xgb.XGBClassifier())\n",
    "])"
   ]
  },
  {
   "cell_type": "code",
   "execution_count": 131,
   "metadata": {},
   "outputs": [
    {
     "data": {
      "text/plain": [
       "Pipeline(memory=None,\n",
       "         steps=[('preprocess',\n",
       "                 FeatureUnion(n_jobs=None,\n",
       "                              transformer_list=[('numerical_transform',\n",
       "                                                 Pipeline(memory=None,\n",
       "                                                          steps=[('selector',\n",
       "                                                                  FunctionTransformer(accept_sparse=False,\n",
       "                                                                                      check_inverse=True,\n",
       "                                                                                      func=<function select_number at 0x0000023D92815048>,\n",
       "                                                                                      inv_kw_args=None,\n",
       "                                                                                      inverse_func=None,\n",
       "                                                                                      kw_args=None,\n",
       "                                                                                      pass_y='deprecated',\n",
       "                                                                                      validate=False)),\n",
       "                                                                 ('scaler'...\n",
       "                ('xgb',\n",
       "                 XGBClassifier(base_score=0.5, booster='gbtree',\n",
       "                               colsample_bylevel=1, colsample_bytree=1, gamma=0,\n",
       "                               learning_rate=0.1, max_delta_step=0, max_depth=3,\n",
       "                               min_child_weight=1, missing=None,\n",
       "                               n_estimators=100, n_jobs=1, nthread=None,\n",
       "                               objective='binary:logistic', random_state=0,\n",
       "                               reg_alpha=0, reg_lambda=1, scale_pos_weight=1,\n",
       "                               seed=None, silent=True, subsample=1))],\n",
       "         verbose=False)"
      ]
     },
     "execution_count": 131,
     "metadata": {},
     "output_type": "execute_result"
    }
   ],
   "source": [
    "xgbPipeline.fit(Xtr, Ytr.ravel())"
   ]
  },
  {
   "cell_type": "code",
   "execution_count": 132,
   "metadata": {},
   "outputs": [
    {
     "data": {
      "text/plain": [
       "0.8604436229205176"
      ]
     },
     "execution_count": 132,
     "metadata": {},
     "output_type": "execute_result"
    }
   ],
   "source": [
    "xgbPipeline.score(Xva,Yva)"
   ]
  },
  {
   "cell_type": "code",
   "execution_count": 138,
   "metadata": {},
   "outputs": [],
   "source": [
    "import joblib\n",
    "xgbPipeline = joblib.load('xgb_grid_model.pkl')"
   ]
  },
  {
   "cell_type": "code",
   "execution_count": 139,
   "metadata": {},
   "outputs": [
    {
     "name": "stdout",
     "output_type": "stream",
     "text": [
      "[0 0 0 ... 0 0 0]\n",
      "0.8839314761439665\n"
     ]
    },
    {
     "data": {
      "text/plain": [
       "0.8056611943772053"
      ]
     },
     "execution_count": 139,
     "metadata": {},
     "output_type": "execute_result"
    }
   ],
   "source": [
    "auc(xgbPipeline, Xtr, Ytr)"
   ]
  },
  {
   "cell_type": "code",
   "execution_count": 140,
   "metadata": {},
   "outputs": [
    {
     "name": "stdout",
     "output_type": "stream",
     "text": [
      "[0 1 1 ... 0 1 1]\n",
      "0.8727798159027919\n"
     ]
    },
    {
     "data": {
      "text/plain": [
       "0.7869094302402557"
      ]
     },
     "execution_count": 140,
     "metadata": {},
     "output_type": "execute_result"
    }
   ],
   "source": [
    "auc(xgbPipeline, Xva, Yva)"
   ]
  },
  {
   "cell_type": "code",
   "execution_count": 141,
   "metadata": {},
   "outputs": [
    {
     "name": "stdout",
     "output_type": "stream",
     "text": [
      "[0 0 0 ... 0 0 1]\n",
      "0.8828196541673912\n"
     ]
    },
    {
     "data": {
      "text/plain": [
       "0.8038329473969731"
      ]
     },
     "execution_count": 141,
     "metadata": {},
     "output_type": "execute_result"
    }
   ],
   "source": [
    "auc(xgbPipeline,Xts,Yts)"
   ]
  },
  {
   "cell_type": "markdown",
   "metadata": {},
   "source": [
    "## SVM "
   ]
  },
  {
   "cell_type": "code",
   "execution_count": null,
   "metadata": {},
   "outputs": [],
   "source": [
    "from sklearn.svm import SVC\n",
    "\n",
    "svmPipeline = Pipeline([\n",
    "    (\"preprocess\", preprocess),\n",
    "    (\"svm\", SVC())\n",
    "])\n",
    "svmPipeline.fit(Xtr, Ytr.ravel())"
   ]
  },
  {
   "cell_type": "code",
   "execution_count": null,
   "metadata": {},
   "outputs": [],
   "source": [
    "svmPipeline.score(Xtr,Ytr)"
   ]
  },
  {
   "cell_type": "code",
   "execution_count": null,
   "metadata": {},
   "outputs": [],
   "source": [
    "svmPipeline.score(Xva,Yva)"
   ]
  },
  {
   "cell_type": "code",
   "execution_count": null,
   "metadata": {},
   "outputs": [],
   "source": [
    "svmPipeline.score(Xts,Yts)"
   ]
  },
  {
   "cell_type": "code",
   "execution_count": null,
   "metadata": {},
   "outputs": [],
   "source": [
    "def auc(pipeline, X, Y):\n",
    "    pred = pipeline.predict(X)\n",
    "    print(pred)\n",
    "    fpr, tpr, thresholds = metrics.roc_curve(Y, pred)\n",
    "    print(metrics.f1_score(pred,Y,average='weighted'))\n",
    "    return metrics.auc(fpr, tpr)"
   ]
  },
  {
   "cell_type": "code",
   "execution_count": null,
   "metadata": {},
   "outputs": [],
   "source": [
    "auc(svmPipeline,Xva,Yva)"
   ]
  },
  {
   "cell_type": "code",
   "execution_count": null,
   "metadata": {},
   "outputs": [],
   "source": [
    "auc(svmPipeline,Xts,Yts)"
   ]
  },
  {
   "cell_type": "markdown",
   "metadata": {},
   "source": [
    "## Logistic Regression"
   ]
  },
  {
   "cell_type": "code",
   "execution_count": 142,
   "metadata": {},
   "outputs": [
    {
     "data": {
      "text/plain": [
       "Pipeline(memory=None,\n",
       "         steps=[('preprocess',\n",
       "                 FeatureUnion(n_jobs=None,\n",
       "                              transformer_list=[('numerical_transform',\n",
       "                                                 Pipeline(memory=None,\n",
       "                                                          steps=[('selector',\n",
       "                                                                  FunctionTransformer(accept_sparse=False,\n",
       "                                                                                      check_inverse=True,\n",
       "                                                                                      func=<function select_number at 0x0000023D92815048>,\n",
       "                                                                                      inv_kw_args=None,\n",
       "                                                                                      inverse_func=None,\n",
       "                                                                                      kw_args=None,\n",
       "                                                                                      pass_y='deprecated',\n",
       "                                                                                      validate=False)),\n",
       "                                                                 ('scaler'...\n",
       "                                                                                handle_unknown='ignore',\n",
       "                                                                                n_values=None,\n",
       "                                                                                sparse=True))],\n",
       "                                                          verbose=False))],\n",
       "                              transformer_weights=None, verbose=False)),\n",
       "                ('lg',\n",
       "                 LogisticRegression(C=1.0, class_weight=None, dual=False,\n",
       "                                    fit_intercept=True, intercept_scaling=1,\n",
       "                                    l1_ratio=None, max_iter=100,\n",
       "                                    multi_class='warn', n_jobs=None,\n",
       "                                    penalty='l2', random_state=None,\n",
       "                                    solver='warn', tol=0.0001, verbose=0,\n",
       "                                    warm_start=False))],\n",
       "         verbose=False)"
      ]
     },
     "execution_count": 142,
     "metadata": {},
     "output_type": "execute_result"
    }
   ],
   "source": [
    "from sklearn.linear_model import LogisticRegression\n",
    "lgPipeline = Pipeline([\n",
    "    (\"preprocess\", preprocess),\n",
    "    (\"lg\", LogisticRegression(penalty='l2'))\n",
    "])\n",
    "lgPipeline.fit(Xtr, Ytr.ravel())"
   ]
  },
  {
   "cell_type": "code",
   "execution_count": 143,
   "metadata": {},
   "outputs": [
    {
     "data": {
      "text/plain": [
       "0.8539314344192392"
      ]
     },
     "execution_count": 143,
     "metadata": {},
     "output_type": "execute_result"
    }
   ],
   "source": [
    "lgPipeline.score(Xtr,Ytr)"
   ]
  },
  {
   "cell_type": "code",
   "execution_count": 144,
   "metadata": {},
   "outputs": [
    {
     "data": {
      "text/plain": [
       "0.848120764017252"
      ]
     },
     "execution_count": 144,
     "metadata": {},
     "output_type": "execute_result"
    }
   ],
   "source": [
    "lgPipeline.score(Xva,Yva)"
   ]
  },
  {
   "cell_type": "code",
   "execution_count": 145,
   "metadata": {},
   "outputs": [
    {
     "data": {
      "text/plain": [
       "0.8533476658476659"
      ]
     },
     "execution_count": 145,
     "metadata": {},
     "output_type": "execute_result"
    }
   ],
   "source": [
    "lgPipeline.score(Xts,Yts)"
   ]
  },
  {
   "cell_type": "code",
   "execution_count": 146,
   "metadata": {},
   "outputs": [
    {
     "name": "stdout",
     "output_type": "stream",
     "text": [
      "[0 0 0 ... 0 0 0]\n",
      "0.8590921415094726\n"
     ]
    },
    {
     "data": {
      "text/plain": [
       "0.7702461333543904"
      ]
     },
     "execution_count": 146,
     "metadata": {},
     "output_type": "execute_result"
    }
   ],
   "source": [
    "auc(lgPipeline,Xtr,Ytr)"
   ]
  },
  {
   "cell_type": "code",
   "execution_count": 147,
   "metadata": {},
   "outputs": [
    {
     "name": "stdout",
     "output_type": "stream",
     "text": [
      "[0 1 1 ... 0 0 1]\n",
      "0.8517132010194466\n"
     ]
    },
    {
     "data": {
      "text/plain": [
       "0.7658157446276794"
      ]
     },
     "execution_count": 147,
     "metadata": {},
     "output_type": "execute_result"
    }
   ],
   "source": [
    "auc(lgPipeline,Xva,Yva)"
   ]
  },
  {
   "cell_type": "code",
   "execution_count": 148,
   "metadata": {},
   "outputs": [
    {
     "name": "stdout",
     "output_type": "stream",
     "text": [
      "[0 0 0 ... 0 0 1]\n",
      "0.8828196541673912\n"
     ]
    },
    {
     "data": {
      "text/plain": [
       "0.8038329473969731"
      ]
     },
     "execution_count": 148,
     "metadata": {},
     "output_type": "execute_result"
    }
   ],
   "source": [
    "auc(xgbPipeline,Xts,Yts)"
   ]
  },
  {
   "cell_type": "markdown",
   "metadata": {},
   "source": [
    "## Voting classifier for different models"
   ]
  },
  {
   "cell_type": "code",
   "execution_count": null,
   "metadata": {},
   "outputs": [],
   "source": [
    "from sklearn import model_selection\n",
    "from sklearn.linear_model import LogisticRegression\n",
    "from sklearn.naive_bayes import GaussianNB \n",
    "from sklearn.ensemble import RandomForestClassifier\n",
    "from sklearn.tree import DecisionTreeClassifier\n",
    "from sklearn.ensemble import VotingClassifier\n",
    "from sklearn.svm import SVC\n",
    "from sklearn.metrics import roc_curve, auc\n",
    "\n",
    "# clf1 = LogisticRegression(random_state=1)\n",
    "# clf2 = RandomForestClassifier(random_state=1)\n",
    "# clf3 = GaussianNB()\n",
    "svmPipeline = Pipeline([\n",
    "#     (\"preprocess\", preprocess),\n",
    "    (\"svm\", SVC(probability=True))\n",
    "])\n",
    "\n",
    "mlpPipeline = Pipeline([\n",
    "#     ('preprocess', preprocess),\n",
    "    ('mlp', mlp.MLPClassifier())\n",
    "])\n",
    "\n",
    "rfPipeline = Pipeline([\n",
    "#     (\"preprocess\", preprocess),\n",
    "    (\"rfc\", RandomForestClassifier())\n",
    "])\n",
    "\n",
    "xgbPipeline = Pipeline([\n",
    "#     (\"preprocess\", preprocess),\n",
    "    (\"xgb\", xgb.XGBClassifier(max_depth=5,subsample=0.6,colsample_bytree=1.0,gamma=2,min_child_weight=1))\n",
    "])\n",
    "\n",
    "\n",
    "estimators = [\n",
    "    ('mlp', mlpPipeline),\n",
    "    ('xgb', xgbPipeline),\n",
    "    ('svm', svmPipeline)\n",
    "]\n",
    "\n",
    "# classifier = VotingClassifier(estimators,voting='soft',weights=[2,2,1])\n",
    "# classifier.fit(Xtr,Ytr.ravel())\n",
    "\n",
    "votingPipeline = Pipeline([\n",
    "    (\"preprocess\", preprocess),\n",
    "    (\"VC\", VotingClassifier(estimators,voting='soft',weights=[3,2,1]))\n",
    "])\n",
    "\n",
    "votingPipeline.fit(Xtr,Ytr.ravel())\n",
    "# eclf = VotingClassifier(clfs=[clf1, clf2, clf3], voting='soft',weights=[1,1,1])\n",
    "# labels = ['Logistic Regression', 'Random Forest', 'Naive Bayes']\n",
    "\n",
    "# eclf.fit(Xtr,Ytr)\n",
    "# pred = eclf.predict(Xva)\n",
    "# print(\"Score: \",np.mean(pred==Yva))\n"
   ]
  },
  {
   "cell_type": "code",
   "execution_count": null,
   "metadata": {},
   "outputs": [],
   "source": [
    "votingPipeline.score(Xva,Yva)"
   ]
  },
  {
   "cell_type": "code",
   "execution_count": null,
   "metadata": {},
   "outputs": [],
   "source": [
    "votingPipeline.score(Xts,Yts)"
   ]
  },
  {
   "cell_type": "code",
   "execution_count": null,
   "metadata": {},
   "outputs": [],
   "source": [
    "pred = votingPipeline.predict(Xts)\n",
    "print(pred)\n",
    "#     fpr, tpr, thresholds = metrics.roc_curve(Y, pred)\n",
    "#     return metrics.auc(fpr, tpr)"
   ]
  },
  {
   "cell_type": "code",
   "execution_count": null,
   "metadata": {},
   "outputs": [],
   "source": [
    "metrics.f1_score(pred, Yts, average='weighted') # weighted takes into account class imbalance "
   ]
  },
  {
   "cell_type": "code",
   "execution_count": null,
   "metadata": {},
   "outputs": [],
   "source": [
    "auc(votingPipeline,Xts,Yts)"
   ]
  },
  {
   "cell_type": "code",
   "execution_count": null,
   "metadata": {},
   "outputs": [],
   "source": [
    "from sklearn.model_selection import GridSearch\n",
    "hyperparameters = {\n",
    "        'VC__weights' = [[1,1,1],[1,1,2],[1,2,1],[1,2,2],[2,1,1],[2,1,2],[2,2,2] ]\n",
    "        }\n",
    "clf = GridSearch(xgbPipeline, hyperparameters, cv=10)\n",
    "# clf.fit(Xtr, Ytr.ravel())\n"
   ]
  },
  {
   "cell_type": "markdown",
   "metadata": {},
   "source": [
    "# Hyper-parameter Tuning"
   ]
  },
  {
   "cell_type": "markdown",
   "metadata": {},
   "source": [
    "## Parameter tuning for XGB"
   ]
  },
  {
   "cell_type": "markdown",
   "metadata": {},
   "source": [
    "```python\n",
    "from sklearn.model_selection import GridSearchCV\n",
    "hyperparameters = {\n",
    "        'xgb__min_child_weight': [1, 5, 10],\n",
    "        'xgb__gamma': [0.5, 1, 1.5, 2],\n",
    "        'xgb__subsample': [0.6, 0.8, 1.0],\n",
    "        'xgb__colsample_bytree': [0.6, 0.8, 1.0],\n",
    "        'xgb__max_depth': [3, 4, 5]\n",
    "        }\n",
    "clf = GridSearchCV(xgbPipeline, hyperparameters, cv=10)\n",
    "clf.fit(Xtr, Ytr.ravel())\n",
    "```"
   ]
  },
  {
   "cell_type": "code",
   "execution_count": null,
   "metadata": {},
   "outputs": [],
   "source": [
    "xgbPipeline.get_params().keys()"
   ]
  },
  {
   "cell_type": "code",
   "execution_count": null,
   "metadata": {},
   "outputs": [],
   "source": [
    "print(clf.best_score_)"
   ]
  },
  {
   "cell_type": "markdown",
   "metadata": {},
   "source": [
    "## Test data"
   ]
  },
  {
   "cell_type": "code",
   "execution_count": null,
   "metadata": {},
   "outputs": [],
   "source": [
    "Xts = testdf.drop('target',axis=1)\n",
    "Yts = target_binarizer(testdf['target'])\n",
    "print(Xts.shape)\n",
    "print(Yts.shape)"
   ]
  },
  {
   "cell_type": "code",
   "execution_count": null,
   "metadata": {},
   "outputs": [],
   "source": [
    "print(clf.best_estimator_)"
   ]
  },
  {
   "cell_type": "code",
   "execution_count": null,
   "metadata": {},
   "outputs": [],
   "source": [
    "print(clf.best_params_)"
   ]
  },
  {
   "cell_type": "markdown",
   "metadata": {},
   "source": [
    "### Passing XGB after selecting best params"
   ]
  },
  {
   "cell_type": "code",
   "execution_count": null,
   "metadata": {},
   "outputs": [],
   "source": [
    "xgbPipeline = Pipeline([\n",
    "    (\"preprocess\", preprocess),\n",
    "    (\"xgb\", xgb.XGBClassifier(max_depth=5,subsample=0.6,colsample_bytree=1.0,gamma=2,min_child_weight=1))\n",
    "])"
   ]
  },
  {
   "cell_type": "code",
   "execution_count": null,
   "metadata": {},
   "outputs": [],
   "source": [
    "xgbPipeline.fit(Xtr, Ytr.ravel())"
   ]
  },
  {
   "cell_type": "code",
   "execution_count": null,
   "metadata": {},
   "outputs": [],
   "source": [
    "print(\"xgb score: \",xgbPipeline.score(Xva,Yva))\n",
    "print(\"auc training score: \", auc(xgbPipeline,Xtr,Ytr))\n",
    "print(\"auc validation score: \", auc(xgbPipeline,Xva,Yva))"
   ]
  },
  {
   "cell_type": "markdown",
   "metadata": {},
   "source": [
    "### RandomForest model"
   ]
  },
  {
   "cell_type": "code",
   "execution_count": null,
   "metadata": {},
   "outputs": [],
   "source": [
    "from sklearn.ensemble import RandomForestClassifier\n",
    "rfPipeline = Pipeline([\n",
    "    (\"preprocess\", preprocess),\n",
    "    (\"rfc\", RandomForestClassifier())\n",
    "])"
   ]
  },
  {
   "cell_type": "code",
   "execution_count": null,
   "metadata": {},
   "outputs": [],
   "source": [
    "rfPipeline.fit(Xtr, Ytr.ravel())"
   ]
  },
  {
   "cell_type": "code",
   "execution_count": null,
   "metadata": {},
   "outputs": [],
   "source": [
    "print(\"rfc score: \",rfPipeline.score(Xva,Yva))\n",
    "print(\"auc training score: \", auc(rfPipeline,Xtr,Ytr))\n",
    "print(\"auc validation score: \", auc(rfPipeline,Xva,Yva))"
   ]
  },
  {
   "cell_type": "markdown",
   "metadata": {},
   "source": [
    "### Hyper parameterization for RandomForest"
   ]
  },
  {
   "cell_type": "code",
   "execution_count": null,
   "metadata": {},
   "outputs": [],
   "source": [
    "# hyperparameters = {\n",
    "#         'rfc__bootstrap': [True,False],\n",
    "#         'rfc__max_depth': [10,25,50,75,None],\n",
    "#         'rfc__max_features': ['auto','sqrt'],\n",
    "#         'rfc__min_samples_leaf': [1,2,4],\n",
    "#         'rfc__min_samples_split': [2,5,10],\n",
    "#         'rfc__n_estimators':[200,500,1000,1500,2000]\n",
    "    \n",
    "#         }\n",
    "# rfc = GridSearchCV(rfPipeline, hyperparameters, cv=10)\n",
    "# rfc.fit(Xtr, Ytr.ravel())"
   ]
  },
  {
   "cell_type": "code",
   "execution_count": null,
   "metadata": {},
   "outputs": [],
   "source": [
    "#print(rfc.best_score_)"
   ]
  },
  {
   "cell_type": "code",
   "execution_count": null,
   "metadata": {},
   "outputs": [],
   "source": [
    "#print(rfc.best_estimator_)"
   ]
  },
  {
   "cell_type": "code",
   "execution_count": null,
   "metadata": {},
   "outputs": [],
   "source": [
    "#print(rfc.best_params_)"
   ]
  },
  {
   "cell_type": "code",
   "execution_count": null,
   "metadata": {},
   "outputs": [],
   "source": []
  },
  {
   "cell_type": "code",
   "execution_count": null,
   "metadata": {},
   "outputs": [],
   "source": []
  },
  {
   "cell_type": "code",
   "execution_count": null,
   "metadata": {},
   "outputs": [],
   "source": []
  },
  {
   "cell_type": "code",
   "execution_count": null,
   "metadata": {},
   "outputs": [],
   "source": []
  }
 ],
 "metadata": {
  "kernelspec": {
   "display_name": "Python 3",
   "language": "python",
   "name": "python3"
  },
  "language_info": {
   "codemirror_mode": {
    "name": "ipython",
    "version": 3
   },
   "file_extension": ".py",
   "mimetype": "text/x-python",
   "name": "python",
   "nbconvert_exporter": "python",
   "pygments_lexer": "ipython3",
   "version": "3.6.5"
  }
 },
 "nbformat": 4,
 "nbformat_minor": 2
}
