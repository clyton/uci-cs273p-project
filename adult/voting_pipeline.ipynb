{
 "cells": [
  {
   "cell_type": "markdown",
   "metadata": {},
   "source": [
    "# Voting Classifier"
   ]
  },
  {
   "cell_type": "code",
   "execution_count": 1,
   "metadata": {},
   "outputs": [
    {
     "name": "stdout",
     "output_type": "stream",
     "text": [
      "(32560, 14)\n",
      "(32560, 1)\n"
     ]
    }
   ],
   "source": [
    "%run pipeline_utils.ipynb"
   ]
  },
  {
   "cell_type": "code",
   "execution_count": 4,
   "metadata": {},
   "outputs": [
    {
     "name": "stderr",
     "output_type": "stream",
     "text": [
      "/home/clyton/anaconda3/lib/python3.7/site-packages/sklearn/neural_network/multilayer_perceptron.py:566: ConvergenceWarning: Stochastic Optimizer: Maximum iterations (200) reached and the optimization hasn't converged yet.\n",
      "  % self.max_iter, ConvergenceWarning)\n",
      "/home/clyton/anaconda3/lib/python3.7/site-packages/sklearn/svm/base.py:193: FutureWarning: The default value of gamma will change from 'auto' to 'scale' in version 0.22 to account better for unscaled features. Set gamma explicitly to 'auto' or 'scale' to avoid this warning.\n",
      "  \"avoid this warning.\", FutureWarning)\n"
     ]
    },
    {
     "data": {
      "text/plain": [
       "Pipeline(memory=None,\n",
       "         steps=[('preprocess',\n",
       "                 FeatureUnion(n_jobs=None,\n",
       "                              transformer_list=[('numerical_transform',\n",
       "                                                 Pipeline(memory=None,\n",
       "                                                          steps=[('selector',\n",
       "                                                                  FunctionTransformer(accept_sparse=False,\n",
       "                                                                                      check_inverse=True,\n",
       "                                                                                      func=<function select_number at 0x7f241209e8c8>,\n",
       "                                                                                      inv_kw_args=None,\n",
       "                                                                                      inverse_func=None,\n",
       "                                                                                      kw_args=None,\n",
       "                                                                                      pass_y='deprecated',\n",
       "                                                                                      validate=False)),\n",
       "                                                                 ('scaler',\n",
       "                                                                  Sta...\n",
       "                                               Pipeline(memory=None,\n",
       "                                                        steps=[('svm',\n",
       "                                                                SVC(C=1.0,\n",
       "                                                                    cache_size=200,\n",
       "                                                                    class_weight=None,\n",
       "                                                                    coef0=0.0,\n",
       "                                                                    decision_function_shape='ovr',\n",
       "                                                                    degree=3,\n",
       "                                                                    gamma='auto_deprecated',\n",
       "                                                                    kernel='rbf',\n",
       "                                                                    max_iter=-1,\n",
       "                                                                    probability=True,\n",
       "                                                                    random_state=None,\n",
       "                                                                    shrinking=True,\n",
       "                                                                    tol=0.001,\n",
       "                                                                    verbose=False))],\n",
       "                                                        verbose=False))],\n",
       "                                  flatten_transform=True, n_jobs=None,\n",
       "                                  voting='soft', weights=[3, 2, 1]))],\n",
       "         verbose=False)"
      ]
     },
     "execution_count": 4,
     "metadata": {},
     "output_type": "execute_result"
    }
   ],
   "source": [
    "from sklearn import model_selection\n",
    "from sklearn.linear_model import LogisticRegression\n",
    "from sklearn.naive_bayes import GaussianNB \n",
    "from sklearn.ensemble import RandomForestClassifier\n",
    "from sklearn.tree import DecisionTreeClassifier\n",
    "from sklearn.ensemble import VotingClassifier\n",
    "from sklearn.svm import SVC\n",
    "from sklearn.metrics import roc_curve, auc\n",
    "\n",
    "# clf1 = LogisticRegression(random_state=1)\n",
    "# clf2 = RandomForestClassifier(random_state=1)\n",
    "# clf3 = GaussianNB()\n",
    "svmPipeline = Pipeline([\n",
    "#     (\"preprocess\", preprocess),\n",
    "    (\"svm\", SVC(probability=True))\n",
    "])\n",
    "\n",
    "mlpPipeline = Pipeline([\n",
    "#     ('preprocess', preprocess),\n",
    "    ('mlp', mlp.MLPClassifier())\n",
    "])\n",
    "\n",
    "rfPipeline = Pipeline([\n",
    "#     (\"preprocess\", preprocess),\n",
    "    (\"rfc\", RandomForestClassifier())\n",
    "])\n",
    "\n",
    "xgbPipeline = Pipeline([\n",
    "#     (\"preprocess\", preprocess),\n",
    "    # best params found after doing grid search on XG boost\n",
    "    (\"xgb\", xgb.XGBClassifier(max_depth=5,subsample=0.6,colsample_bytree=1.0,gamma=2,min_child_weight=1))\n",
    "])\n",
    "\n",
    "\n",
    "estimators = [\n",
    "    ('mlp', mlpPipeline),\n",
    "    ('xgb', xgbPipeline),\n",
    "    ('svm', svmPipeline)\n",
    "]\n",
    "\n",
    "# classifier = VotingClassifier(estimators,voting='soft',weights=[2,2,1])\n",
    "# classifier.fit(Xtr,Ytr.ravel())\n",
    "\n",
    "votingPipeline = Pipeline([\n",
    "    (\"preprocess\", preprocess),\n",
    "    (\"VC\", VotingClassifier(estimators,voting='soft',weights=[3,2,1]))\n",
    "])\n",
    "\n",
    "votingPipeline.fit(Xtr,Ytr.ravel())\n",
    "# eclf = VotingClassifier(clfs=[clf1, clf2, clf3], voting='soft',weights=[1,1,1])\n",
    "# labels = ['Logistic Regression', 'Random Forest', 'Naive Bayes']\n",
    "\n",
    "# eclf.fit(Xtr,Ytr)\n",
    "# pred = eclf.predict(Xva)\n",
    "# print(\"Score: \",np.mean(pred==Yva))\n"
   ]
  },
  {
   "cell_type": "code",
   "execution_count": 3,
   "metadata": {},
   "outputs": [
    {
     "ename": "TypeError",
     "evalue": "Expected sequence or array-like, got estimator Pipeline(memory=None,\n         steps=[('preprocess',\n                 FeatureUnion(n_jobs=None,\n                              transformer_list=[('numerical_transform',\n                                                 Pipeline(memory=None,\n                                                          steps=[('selector',\n                                                                  FunctionTransformer(accept_sparse=False,\n                                                                                      check_inverse=True,\n                                                                                      func=<function select_number at 0x7f241209e8c8>,\n                                                                                      inv_kw_args=None,\n                                                                                      inverse_func=None,\n                                                                                      kw_args=None,\n                                                                                      pass_y='deprecated',\n                                                                                      validate=False)),\n                                                                 ('scaler',\n                                                                  Sta...\n                                               Pipeline(memory=None,\n                                                        steps=[('svm',\n                                                                SVC(C=1.0,\n                                                                    cache_size=200,\n                                                                    class_weight=None,\n                                                                    coef0=0.0,\n                                                                    decision_function_shape='ovr',\n                                                                    degree=3,\n                                                                    gamma='auto_deprecated',\n                                                                    kernel='rbf',\n                                                                    max_iter=-1,\n                                                                    probability=True,\n                                                                    random_state=None,\n                                                                    shrinking=True,\n                                                                    tol=0.001,\n                                                                    verbose=False))],\n                                                        verbose=False))],\n                                  flatten_transform=True, n_jobs=None,\n                                  voting='soft', weights=[3, 2, 1]))],\n         verbose=False)",
     "output_type": "error",
     "traceback": [
      "\u001b[0;31m---------------------------------------------------------------------------\u001b[0m",
      "\u001b[0;31mTypeError\u001b[0m                                 Traceback (most recent call last)",
      "\u001b[0;32m<ipython-input-3-b5dace58a7d0>\u001b[0m in \u001b[0;36m<module>\u001b[0;34m\u001b[0m\n\u001b[0;32m----> 1\u001b[0;31m \u001b[0mauc\u001b[0m\u001b[0;34m(\u001b[0m\u001b[0mvotingPipeline\u001b[0m\u001b[0;34m,\u001b[0m \u001b[0mXtr\u001b[0m\u001b[0;34m,\u001b[0m \u001b[0mYtr\u001b[0m\u001b[0;34m)\u001b[0m\u001b[0;34m\u001b[0m\u001b[0;34m\u001b[0m\u001b[0m\n\u001b[0m",
      "\u001b[0;32m~/anaconda3/lib/python3.7/site-packages/sklearn/metrics/ranking.py\u001b[0m in \u001b[0;36mauc\u001b[0;34m(x, y, reorder)\u001b[0m\n\u001b[1;32m     88\u001b[0m         \u001b[0mCompute\u001b[0m \u001b[0mprecision\u001b[0m\u001b[0;34m-\u001b[0m\u001b[0mrecall\u001b[0m \u001b[0mpairs\u001b[0m \u001b[0;32mfor\u001b[0m \u001b[0mdifferent\u001b[0m \u001b[0mprobability\u001b[0m \u001b[0mthresholds\u001b[0m\u001b[0;34m\u001b[0m\u001b[0;34m\u001b[0m\u001b[0m\n\u001b[1;32m     89\u001b[0m     \"\"\"\n\u001b[0;32m---> 90\u001b[0;31m     \u001b[0mcheck_consistent_length\u001b[0m\u001b[0;34m(\u001b[0m\u001b[0mx\u001b[0m\u001b[0;34m,\u001b[0m \u001b[0my\u001b[0m\u001b[0;34m)\u001b[0m\u001b[0;34m\u001b[0m\u001b[0;34m\u001b[0m\u001b[0m\n\u001b[0m\u001b[1;32m     91\u001b[0m     \u001b[0mx\u001b[0m \u001b[0;34m=\u001b[0m \u001b[0mcolumn_or_1d\u001b[0m\u001b[0;34m(\u001b[0m\u001b[0mx\u001b[0m\u001b[0;34m)\u001b[0m\u001b[0;34m\u001b[0m\u001b[0;34m\u001b[0m\u001b[0m\n\u001b[1;32m     92\u001b[0m     \u001b[0my\u001b[0m \u001b[0;34m=\u001b[0m \u001b[0mcolumn_or_1d\u001b[0m\u001b[0;34m(\u001b[0m\u001b[0my\u001b[0m\u001b[0;34m)\u001b[0m\u001b[0;34m\u001b[0m\u001b[0;34m\u001b[0m\u001b[0m\n",
      "\u001b[0;32m~/anaconda3/lib/python3.7/site-packages/sklearn/utils/validation.py\u001b[0m in \u001b[0;36mcheck_consistent_length\u001b[0;34m(*arrays)\u001b[0m\n\u001b[1;32m    199\u001b[0m     \"\"\"\n\u001b[1;32m    200\u001b[0m \u001b[0;34m\u001b[0m\u001b[0m\n\u001b[0;32m--> 201\u001b[0;31m     \u001b[0mlengths\u001b[0m \u001b[0;34m=\u001b[0m \u001b[0;34m[\u001b[0m\u001b[0m_num_samples\u001b[0m\u001b[0;34m(\u001b[0m\u001b[0mX\u001b[0m\u001b[0;34m)\u001b[0m \u001b[0;32mfor\u001b[0m \u001b[0mX\u001b[0m \u001b[0;32min\u001b[0m \u001b[0marrays\u001b[0m \u001b[0;32mif\u001b[0m \u001b[0mX\u001b[0m \u001b[0;32mis\u001b[0m \u001b[0;32mnot\u001b[0m \u001b[0;32mNone\u001b[0m\u001b[0;34m]\u001b[0m\u001b[0;34m\u001b[0m\u001b[0;34m\u001b[0m\u001b[0m\n\u001b[0m\u001b[1;32m    202\u001b[0m     \u001b[0muniques\u001b[0m \u001b[0;34m=\u001b[0m \u001b[0mnp\u001b[0m\u001b[0;34m.\u001b[0m\u001b[0munique\u001b[0m\u001b[0;34m(\u001b[0m\u001b[0mlengths\u001b[0m\u001b[0;34m)\u001b[0m\u001b[0;34m\u001b[0m\u001b[0;34m\u001b[0m\u001b[0m\n\u001b[1;32m    203\u001b[0m     \u001b[0;32mif\u001b[0m \u001b[0mlen\u001b[0m\u001b[0;34m(\u001b[0m\u001b[0muniques\u001b[0m\u001b[0;34m)\u001b[0m \u001b[0;34m>\u001b[0m \u001b[0;36m1\u001b[0m\u001b[0;34m:\u001b[0m\u001b[0;34m\u001b[0m\u001b[0;34m\u001b[0m\u001b[0m\n",
      "\u001b[0;32m~/anaconda3/lib/python3.7/site-packages/sklearn/utils/validation.py\u001b[0m in \u001b[0;36m<listcomp>\u001b[0;34m(.0)\u001b[0m\n\u001b[1;32m    199\u001b[0m     \"\"\"\n\u001b[1;32m    200\u001b[0m \u001b[0;34m\u001b[0m\u001b[0m\n\u001b[0;32m--> 201\u001b[0;31m     \u001b[0mlengths\u001b[0m \u001b[0;34m=\u001b[0m \u001b[0;34m[\u001b[0m\u001b[0m_num_samples\u001b[0m\u001b[0;34m(\u001b[0m\u001b[0mX\u001b[0m\u001b[0;34m)\u001b[0m \u001b[0;32mfor\u001b[0m \u001b[0mX\u001b[0m \u001b[0;32min\u001b[0m \u001b[0marrays\u001b[0m \u001b[0;32mif\u001b[0m \u001b[0mX\u001b[0m \u001b[0;32mis\u001b[0m \u001b[0;32mnot\u001b[0m \u001b[0;32mNone\u001b[0m\u001b[0;34m]\u001b[0m\u001b[0;34m\u001b[0m\u001b[0;34m\u001b[0m\u001b[0m\n\u001b[0m\u001b[1;32m    202\u001b[0m     \u001b[0muniques\u001b[0m \u001b[0;34m=\u001b[0m \u001b[0mnp\u001b[0m\u001b[0;34m.\u001b[0m\u001b[0munique\u001b[0m\u001b[0;34m(\u001b[0m\u001b[0mlengths\u001b[0m\u001b[0;34m)\u001b[0m\u001b[0;34m\u001b[0m\u001b[0;34m\u001b[0m\u001b[0m\n\u001b[1;32m    203\u001b[0m     \u001b[0;32mif\u001b[0m \u001b[0mlen\u001b[0m\u001b[0;34m(\u001b[0m\u001b[0muniques\u001b[0m\u001b[0;34m)\u001b[0m \u001b[0;34m>\u001b[0m \u001b[0;36m1\u001b[0m\u001b[0;34m:\u001b[0m\u001b[0;34m\u001b[0m\u001b[0;34m\u001b[0m\u001b[0m\n",
      "\u001b[0;32m~/anaconda3/lib/python3.7/site-packages/sklearn/utils/validation.py\u001b[0m in \u001b[0;36m_num_samples\u001b[0;34m(x)\u001b[0m\n\u001b[1;32m    134\u001b[0m         \u001b[0;31m# Don't get num_samples from an ensembles length!\u001b[0m\u001b[0;34m\u001b[0m\u001b[0;34m\u001b[0m\u001b[0;34m\u001b[0m\u001b[0m\n\u001b[1;32m    135\u001b[0m         raise TypeError('Expected sequence or array-like, got '\n\u001b[0;32m--> 136\u001b[0;31m                         'estimator %s' % x)\n\u001b[0m\u001b[1;32m    137\u001b[0m     \u001b[0;32mif\u001b[0m \u001b[0;32mnot\u001b[0m \u001b[0mhasattr\u001b[0m\u001b[0;34m(\u001b[0m\u001b[0mx\u001b[0m\u001b[0;34m,\u001b[0m \u001b[0;34m'__len__'\u001b[0m\u001b[0;34m)\u001b[0m \u001b[0;32mand\u001b[0m \u001b[0;32mnot\u001b[0m \u001b[0mhasattr\u001b[0m\u001b[0;34m(\u001b[0m\u001b[0mx\u001b[0m\u001b[0;34m,\u001b[0m \u001b[0;34m'shape'\u001b[0m\u001b[0;34m)\u001b[0m\u001b[0;34m:\u001b[0m\u001b[0;34m\u001b[0m\u001b[0;34m\u001b[0m\u001b[0m\n\u001b[1;32m    138\u001b[0m         \u001b[0;32mif\u001b[0m \u001b[0mhasattr\u001b[0m\u001b[0;34m(\u001b[0m\u001b[0mx\u001b[0m\u001b[0;34m,\u001b[0m \u001b[0;34m'__array__'\u001b[0m\u001b[0;34m)\u001b[0m\u001b[0;34m:\u001b[0m\u001b[0;34m\u001b[0m\u001b[0;34m\u001b[0m\u001b[0m\n",
      "\u001b[0;31mTypeError\u001b[0m: Expected sequence or array-like, got estimator Pipeline(memory=None,\n         steps=[('preprocess',\n                 FeatureUnion(n_jobs=None,\n                              transformer_list=[('numerical_transform',\n                                                 Pipeline(memory=None,\n                                                          steps=[('selector',\n                                                                  FunctionTransformer(accept_sparse=False,\n                                                                                      check_inverse=True,\n                                                                                      func=<function select_number at 0x7f241209e8c8>,\n                                                                                      inv_kw_args=None,\n                                                                                      inverse_func=None,\n                                                                                      kw_args=None,\n                                                                                      pass_y='deprecated',\n                                                                                      validate=False)),\n                                                                 ('scaler',\n                                                                  Sta...\n                                               Pipeline(memory=None,\n                                                        steps=[('svm',\n                                                                SVC(C=1.0,\n                                                                    cache_size=200,\n                                                                    class_weight=None,\n                                                                    coef0=0.0,\n                                                                    decision_function_shape='ovr',\n                                                                    degree=3,\n                                                                    gamma='auto_deprecated',\n                                                                    kernel='rbf',\n                                                                    max_iter=-1,\n                                                                    probability=True,\n                                                                    random_state=None,\n                                                                    shrinking=True,\n                                                                    tol=0.001,\n                                                                    verbose=False))],\n                                                        verbose=False))],\n                                  flatten_transform=True, n_jobs=None,\n                                  voting='soft', weights=[3, 2, 1]))],\n         verbose=False)"
     ]
    }
   ],
   "source": [
    "auc(votingPipeline, Xtr, Ytr)"
   ]
  },
  {
   "cell_type": "code",
   "execution_count": null,
   "metadata": {},
   "outputs": [],
   "source": [
    "auc(votingPipeline, Xva, Yva)"
   ]
  },
  {
   "cell_type": "code",
   "execution_count": null,
   "metadata": {},
   "outputs": [],
   "source": [
    "auc(votingPipeline,Xts,Yts)"
   ]
  },
  {
   "cell_type": "code",
   "execution_count": null,
   "metadata": {},
   "outputs": [],
   "source": []
  }
 ],
 "metadata": {
  "kernelspec": {
   "display_name": "Python 3",
   "language": "python",
   "name": "python3"
  },
  "language_info": {
   "codemirror_mode": {
    "name": "ipython",
    "version": 3
   },
   "file_extension": ".py",
   "mimetype": "text/x-python",
   "name": "python",
   "nbconvert_exporter": "python",
   "pygments_lexer": "ipython3",
   "version": "3.7.1"
  }
 },
 "nbformat": 4,
 "nbformat_minor": 2
}
