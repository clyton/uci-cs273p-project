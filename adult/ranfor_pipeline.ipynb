{
 "cells": [
  {
   "cell_type": "markdown",
   "metadata": {},
   "source": [
    "# Random Forest Classifier"
   ]
  },
  {
   "cell_type": "code",
   "execution_count": 3,
   "metadata": {},
   "outputs": [
    {
     "name": "stdout",
     "output_type": "stream",
     "text": [
      "(32560, 14)\n",
      "(32560, 1)\n"
     ]
    }
   ],
   "source": [
    "%run pipeline_utils.ipynb"
   ]
  },
  {
   "cell_type": "code",
   "execution_count": 4,
   "metadata": {},
   "outputs": [],
   "source": [
    "from sklearn.ensemble import RandomForestClassifier\n",
    "rfPipeline = Pipeline([\n",
    "    (\"preprocess\", preprocess),\n",
    "    (\"rfc\", RandomForestClassifier())\n",
    "])"
   ]
  },
  {
   "cell_type": "code",
   "execution_count": 5,
   "metadata": {},
   "outputs": [
    {
     "data": {
      "text/plain": [
       "Pipeline(memory=None,\n",
       "         steps=[('preprocess',\n",
       "                 FeatureUnion(n_jobs=None,\n",
       "                              transformer_list=[('numerical_transform',\n",
       "                                                 Pipeline(memory=None,\n",
       "                                                          steps=[('selector',\n",
       "                                                                  FunctionTransformer(accept_sparse=False,\n",
       "                                                                                      check_inverse=True,\n",
       "                                                                                      func=<function select_number at 0x7f271a012ae8>,\n",
       "                                                                                      inv_kw_args=None,\n",
       "                                                                                      inverse_func=None,\n",
       "                                                                                      kw_args=None,\n",
       "                                                                                      pass_y='deprecated',\n",
       "                                                                                      validate=False)),\n",
       "                                                                 ('scaler',\n",
       "                                                                  Sta...\n",
       "                 RandomForestClassifier(bootstrap=True, class_weight=None,\n",
       "                                        criterion='gini', max_depth=None,\n",
       "                                        max_features='auto',\n",
       "                                        max_leaf_nodes=None,\n",
       "                                        min_impurity_decrease=0.0,\n",
       "                                        min_impurity_split=None,\n",
       "                                        min_samples_leaf=1, min_samples_split=2,\n",
       "                                        min_weight_fraction_leaf=0.0,\n",
       "                                        n_estimators=10, n_jobs=None,\n",
       "                                        oob_score=False, random_state=None,\n",
       "                                        verbose=0, warm_start=False))],\n",
       "         verbose=False)"
      ]
     },
     "execution_count": 5,
     "metadata": {},
     "output_type": "execute_result"
    }
   ],
   "source": [
    "rfPipeline.fit(Xtr, Ytr.ravel())"
   ]
  },
  {
   "cell_type": "code",
   "execution_count": 6,
   "metadata": {},
   "outputs": [
    {
     "name": "stdout",
     "output_type": "stream",
     "text": [
      "rfc score:  0.8385705483672212\n",
      "[0 1 1 ... 0 0 1]\n",
      "F1 weighted 0.9866189495960778\n",
      "AUC : 0.9749161148102158\n",
      "Classification report : \n",
      "              precision    recall  f1-score   support\n",
      "\n",
      "           0       0.99      1.00      0.99     22229\n",
      "           1       0.99      0.95      0.97      7086\n",
      "\n",
      "    accuracy                           0.99     29315\n",
      "   macro avg       0.99      0.97      0.98     29315\n",
      "weighted avg       0.99      0.99      0.99     29315\n",
      "\n",
      "[[22171    58]\n",
      " [  337  6749]]\n",
      "None\n",
      "auc training score:  None\n",
      "[0 0 1 ... 0 0 1]\n",
      "F1 weighted 0.8437357607082104\n",
      "AUC : 0.7457474723574404\n",
      "Classification report : \n",
      "              precision    recall  f1-score   support\n",
      "\n",
      "           0       0.88      0.92      0.90      2491\n",
      "           1       0.68      0.57      0.62       755\n",
      "\n",
      "    accuracy                           0.84      3246\n",
      "   macro avg       0.78      0.75      0.76      3246\n",
      "weighted avg       0.83      0.84      0.83      3246\n",
      "\n",
      "[[2290  201]\n",
      " [ 323  432]]\n",
      "None\n",
      "auc validation score:  None\n"
     ]
    }
   ],
   "source": [
    "print(\"rfc score: \",rfPipeline.score(Xva,Yva))\n",
    "print(\"auc training score: \", auc(rfPipeline,Xtr,Ytr))\n",
    "print(\"auc validation score: \", auc(rfPipeline,Xva,Yva))"
   ]
  },
  {
   "cell_type": "markdown",
   "metadata": {},
   "source": [
    "### Hyper parameterization for RandomForest"
   ]
  },
  {
   "cell_type": "code",
   "execution_count": 7,
   "metadata": {},
   "outputs": [],
   "source": [
    "# hyperparameters = {\n",
    "#         'rfc__bootstrap': [True,False],\n",
    "#         'rfc__max_depth': [10,25,50,75,None],\n",
    "#         'rfc__max_features': ['auto','sqrt'],\n",
    "#         'rfc__min_samples_leaf': [1,2,4],\n",
    "#         'rfc__min_samples_split': [2,5,10],\n",
    "#         'rfc__n_estimators':[200,500,1000,1500,2000]\n",
    "    \n",
    "#         }\n",
    "# rfc = GridSearchCV(rfPipeline, hyperparameters, cv=10)\n",
    "# rfc.fit(Xtr, Ytr.ravel())"
   ]
  },
  {
   "cell_type": "code",
   "execution_count": 8,
   "metadata": {},
   "outputs": [],
   "source": [
    "#print(rfc.best_score_)"
   ]
  },
  {
   "cell_type": "code",
   "execution_count": 9,
   "metadata": {},
   "outputs": [],
   "source": [
    "#print(rfc.best_estimator_)"
   ]
  },
  {
   "cell_type": "code",
   "execution_count": 10,
   "metadata": {},
   "outputs": [],
   "source": [
    "#print(rfc.best_params_)"
   ]
  },
  {
   "cell_type": "markdown",
   "metadata": {},
   "source": [
    "# Explicitly specify training and validation set for randomized grid search"
   ]
  },
  {
   "cell_type": "code",
   "execution_count": 11,
   "metadata": {},
   "outputs": [],
   "source": [
    "Xsearch = pandas.concat((Xtr, Xva), axis=0)"
   ]
  },
  {
   "cell_type": "code",
   "execution_count": 12,
   "metadata": {},
   "outputs": [
    {
     "data": {
      "text/plain": [
       "(32561, 14)"
      ]
     },
     "execution_count": 12,
     "metadata": {},
     "output_type": "execute_result"
    }
   ],
   "source": [
    "Xsearch.shape"
   ]
  },
  {
   "cell_type": "code",
   "execution_count": 13,
   "metadata": {},
   "outputs": [],
   "source": [
    "Ysearch = np.concatenate((Ytr, Yva), axis=0)"
   ]
  },
  {
   "cell_type": "code",
   "execution_count": 14,
   "metadata": {},
   "outputs": [
    {
     "data": {
      "text/plain": [
       "(32561, 1)"
      ]
     },
     "execution_count": 14,
     "metadata": {},
     "output_type": "execute_result"
    }
   ],
   "source": [
    "Ysearch.shape"
   ]
  },
  {
   "cell_type": "code",
   "execution_count": 15,
   "metadata": {},
   "outputs": [],
   "source": [
    "XtrInd = np.full((Xtr.shape[0],), -1, dtype=int)"
   ]
  },
  {
   "cell_type": "code",
   "execution_count": 16,
   "metadata": {},
   "outputs": [
    {
     "data": {
      "text/plain": [
       "(29315,)"
      ]
     },
     "execution_count": 16,
     "metadata": {},
     "output_type": "execute_result"
    }
   ],
   "source": [
    "XtrInd.shape"
   ]
  },
  {
   "cell_type": "code",
   "execution_count": 17,
   "metadata": {},
   "outputs": [],
   "source": [
    "XvaInd = np.full((Xva.shape[0],), 0, dtype=int)"
   ]
  },
  {
   "cell_type": "code",
   "execution_count": 18,
   "metadata": {},
   "outputs": [
    {
     "data": {
      "text/plain": [
       "(3246,)"
      ]
     },
     "execution_count": 18,
     "metadata": {},
     "output_type": "execute_result"
    }
   ],
   "source": [
    "XvaInd.shape"
   ]
  },
  {
   "cell_type": "code",
   "execution_count": 19,
   "metadata": {},
   "outputs": [],
   "source": [
    "test_fold = np.append(XtrInd, XvaInd)"
   ]
  },
  {
   "cell_type": "code",
   "execution_count": 20,
   "metadata": {},
   "outputs": [],
   "source": [
    "from sklearn.model_selection import PredefinedSplit"
   ]
  },
  {
   "cell_type": "code",
   "execution_count": 21,
   "metadata": {},
   "outputs": [],
   "source": [
    "ps = PredefinedSplit(test_fold)"
   ]
  },
  {
   "cell_type": "code",
   "execution_count": 22,
   "metadata": {},
   "outputs": [
    {
     "data": {
      "text/plain": [
       "1"
      ]
     },
     "execution_count": 22,
     "metadata": {},
     "output_type": "execute_result"
    }
   ],
   "source": [
    "ps.get_n_splits()"
   ]
  },
  {
   "cell_type": "code",
   "execution_count": 24,
   "metadata": {},
   "outputs": [],
   "source": [
    "# from sklearn.model_selection import GridSearchCV\n",
    "\n",
    "# hyperparameters = {\n",
    "#         'rfc__bootstrap': [True,False],\n",
    "#         'rfc__max_depth': [10,50,75,None],\n",
    "#         'rfc__max_features': ['auto','sqrt'],\n",
    "#         'rfc__min_samples_leaf': [1,2,4],\n",
    "#         'rfc__min_samples_split': [2,5,10],\n",
    "# #         'rfc__n_estimators':[500,1000,2000]\n",
    "    \n",
    "#         }\n",
    "# rfc = GridSearchCV(rfPipeline, hyperparameters, cv=ps)\n",
    "# rfc.fit(Xsearch, Ysearch.ravel())"
   ]
  },
  {
   "cell_type": "markdown",
   "metadata": {},
   "source": [
    "## Randomized Search for RandomForest"
   ]
  },
  {
   "cell_type": "code",
   "execution_count": 25,
   "metadata": {},
   "outputs": [
    {
     "data": {
      "text/plain": [
       "RandomizedSearchCV(cv=PredefinedSplit(test_fold=array([-1, -1, ...,  0,  0])),\n",
       "                   error_score='raise-deprecating',\n",
       "                   estimator=Pipeline(memory=None,\n",
       "                                      steps=[('preprocess',\n",
       "                                              FeatureUnion(n_jobs=None,\n",
       "                                                           transformer_list=[('numerical_transform',\n",
       "                                                                              Pipeline(memory=None,\n",
       "                                                                                       steps=[('selector',\n",
       "                                                                                               FunctionTransformer(accept_sparse=False,\n",
       "                                                                                                                   check_inverse=True,\n",
       "                                                                                                                   func=<function select_number at...\n",
       "                                        'rfc__max_features': <scipy.stats._distn_infrastructure.rv_frozen object at 0x7f2718ad8be0>,\n",
       "                                        'rfc__min_samples_leaf': <scipy.stats._distn_infrastructure.rv_frozen object at 0x7f2718ad8f60>,\n",
       "                                        'rfc__min_samples_split': <scipy.stats._distn_infrastructure.rv_frozen object at 0x7f2718ad8cf8>,\n",
       "                                        'rfc__n_estimators': [1000, 1500,\n",
       "                                                              2000]},\n",
       "                   pre_dispatch='2*n_jobs', random_state=None, refit=True,\n",
       "                   return_train_score=False, scoring=None, verbose=0)"
      ]
     },
     "execution_count": 25,
     "metadata": {},
     "output_type": "execute_result"
    }
   ],
   "source": [
    "from sklearn.model_selection import RandomizedSearchCV\n",
    "from scipy.stats import randint as sp_randint\n",
    "# parameters for GridSearchCV\n",
    "# specify parameters and distributions to sample from\n",
    "param_dist = {\"rfc__max_depth\": [3,4,5],\n",
    "              \"rfc__max_features\": sp_randint(4, 7),\n",
    "              \"rfc__min_samples_split\": sp_randint(7, 14),\n",
    "              \"rfc__min_samples_leaf\": sp_randint(7, 14),\n",
    "              \"rfc__bootstrap\": [True, False],\n",
    "              \"rfc__n_estimators\":[1000,1500,2000]\n",
    "             }\n",
    "# run randomized search\n",
    "n_iter_search = 5\n",
    "random_search = RandomizedSearchCV(rfPipeline, param_distributions=param_dist,\n",
    "                                   n_iter=n_iter_search, cv=ps)\n",
    "random_search.fit(Xsearch, Ysearch.ravel())"
   ]
  },
  {
   "cell_type": "code",
   "execution_count": 26,
   "metadata": {},
   "outputs": [
    {
     "name": "stdout",
     "output_type": "stream",
     "text": [
      "{'rfc__bootstrap': True, 'rfc__max_depth': 5, 'rfc__max_features': 6, 'rfc__min_samples_leaf': 8, 'rfc__min_samples_split': 12, 'rfc__n_estimators': 2000}\n"
     ]
    }
   ],
   "source": [
    "#joblib.dump()\n",
    "print(random_search.best_params_)"
   ]
  },
  {
   "cell_type": "code",
   "execution_count": 27,
   "metadata": {},
   "outputs": [
    {
     "name": "stdout",
     "output_type": "stream",
     "text": [
      "[0 0 1 ... 0 0 1]\n",
      "F1 weighted 0.8437357607082104\n",
      "AUC : 0.7457474723574404\n",
      "Classification report : \n",
      "              precision    recall  f1-score   support\n",
      "\n",
      "           0       0.88      0.92      0.90      2491\n",
      "           1       0.68      0.57      0.62       755\n",
      "\n",
      "    accuracy                           0.84      3246\n",
      "   macro avg       0.78      0.75      0.76      3246\n",
      "weighted avg       0.83      0.84      0.83      3246\n",
      "\n",
      "[[2290  201]\n",
      " [ 323  432]]\n",
      "None\n"
     ]
    }
   ],
   "source": [
    "auc(rfPipeline,Xva,Yva)"
   ]
  },
  {
   "cell_type": "code",
   "execution_count": 28,
   "metadata": {},
   "outputs": [
    {
     "name": "stdout",
     "output_type": "stream",
     "text": [
      "[0 1 1 ... 0 0 1]\n",
      "F1 weighted 0.9866189495960778\n",
      "AUC : 0.9749161148102158\n",
      "Classification report : \n",
      "              precision    recall  f1-score   support\n",
      "\n",
      "           0       0.99      1.00      0.99     22229\n",
      "           1       0.99      0.95      0.97      7086\n",
      "\n",
      "    accuracy                           0.99     29315\n",
      "   macro avg       0.99      0.97      0.98     29315\n",
      "weighted avg       0.99      0.99      0.99     29315\n",
      "\n",
      "[[22171    58]\n",
      " [  337  6749]]\n",
      "None\n"
     ]
    }
   ],
   "source": [
    "auc(rfPipeline,Xtr,Ytr)"
   ]
  },
  {
   "cell_type": "code",
   "execution_count": 29,
   "metadata": {},
   "outputs": [
    {
     "name": "stdout",
     "output_type": "stream",
     "text": [
      "[0 0 0 ... 0 0 1]\n",
      "F1 weighted 0.9720319712535325\n",
      "AUC : 0.9526746463691504\n",
      "Classification report : \n",
      "              precision    recall  f1-score   support\n",
      "\n",
      "           0       0.97      0.99      0.98     24719\n",
      "           1       0.97      0.92      0.94      7841\n",
      "\n",
      "    accuracy                           0.97     32560\n",
      "   macro avg       0.97      0.95      0.96     32560\n",
      "weighted avg       0.97      0.97      0.97     32560\n",
      "\n",
      "[[24460   259]\n",
      " [  660  7181]]\n",
      "None\n"
     ]
    }
   ],
   "source": [
    "auc(rfPipeline,Xts,Yts)"
   ]
  },
  {
   "cell_type": "code",
   "execution_count": 33,
   "metadata": {},
   "outputs": [
    {
     "data": {
      "text/plain": [
       "['rfc_grid_model.pkl']"
      ]
     },
     "execution_count": 33,
     "metadata": {},
     "output_type": "execute_result"
    }
   ],
   "source": [
    "import joblib\n",
    "joblib.dump(random_search.best_estimator_, 'rfc_grid_model.pkl')"
   ]
  },
  {
   "cell_type": "code",
   "execution_count": null,
   "metadata": {},
   "outputs": [],
   "source": []
  }
 ],
 "metadata": {
  "kernelspec": {
   "display_name": "Python 3",
   "language": "python",
   "name": "python3"
  },
  "language_info": {
   "codemirror_mode": {
    "name": "ipython",
    "version": 3
   },
   "file_extension": ".py",
   "mimetype": "text/x-python",
   "name": "python",
   "nbconvert_exporter": "python",
   "pygments_lexer": "ipython3",
   "version": "3.7.1"
  }
 },
 "nbformat": 4,
 "nbformat_minor": 2
}
