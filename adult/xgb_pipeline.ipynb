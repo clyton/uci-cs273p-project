{
 "cells": [
  {
   "cell_type": "markdown",
   "metadata": {},
   "source": [
    "# XGB Pipeline"
   ]
  },
  {
   "cell_type": "code",
   "execution_count": 2,
   "metadata": {},
   "outputs": [
    {
     "name": "stdout",
     "output_type": "stream",
     "text": [
      "(32560, 14)\n",
      "(32560, 1)\n"
     ]
    }
   ],
   "source": [
    "%run pipeline_utils.ipynb"
   ]
  },
  {
   "cell_type": "code",
   "execution_count": 3,
   "metadata": {},
   "outputs": [],
   "source": [
    "xgbPipeline = Pipeline([\n",
    "    (\"preprocess\", preprocess),\n",
    "    (\"xgb\", xgb.XGBClassifier())\n",
    "])"
   ]
  },
  {
   "cell_type": "code",
   "execution_count": 4,
   "metadata": {},
   "outputs": [
    {
     "data": {
      "text/plain": [
       "Pipeline(memory=None,\n",
       "         steps=[('preprocess',\n",
       "                 FeatureUnion(n_jobs=None,\n",
       "                              transformer_list=[('numerical_transform',\n",
       "                                                 Pipeline(memory=None,\n",
       "                                                          steps=[('selector',\n",
       "                                                                  FunctionTransformer(accept_sparse=False,\n",
       "                                                                                      check_inverse=True,\n",
       "                                                                                      func=<function select_number at 0x7fd02aa96ea0>,\n",
       "                                                                                      inv_kw_args=None,\n",
       "                                                                                      inverse_func=None,\n",
       "                                                                                      kw_args=None,\n",
       "                                                                                      pass_y='deprecated',\n",
       "                                                                                      validate=False)),\n",
       "                                                                 ('scaler',\n",
       "                                                                  Sta...\n",
       "                ('xgb',\n",
       "                 XGBClassifier(base_score=0.5, booster='gbtree',\n",
       "                               colsample_bylevel=1, colsample_bytree=1, gamma=0,\n",
       "                               learning_rate=0.1, max_delta_step=0, max_depth=3,\n",
       "                               min_child_weight=1, missing=None,\n",
       "                               n_estimators=100, n_jobs=1, nthread=None,\n",
       "                               objective='binary:logistic', random_state=0,\n",
       "                               reg_alpha=0, reg_lambda=1, scale_pos_weight=1,\n",
       "                               seed=None, silent=True, subsample=1))],\n",
       "         verbose=False)"
      ]
     },
     "execution_count": 4,
     "metadata": {},
     "output_type": "execute_result"
    }
   ],
   "source": [
    "xgbPipeline.fit(Xtr, Ytr.ravel())"
   ]
  },
  {
   "cell_type": "markdown",
   "metadata": {},
   "source": [
    "## Hyper-parameter Tuning"
   ]
  },
  {
   "cell_type": "markdown",
   "metadata": {},
   "source": [
    "```python\n",
    "from sklearn.model_selection import GridSearchCV\n",
    "hyperparameters = {\n",
    "        'xgb__min_child_weight': [1, 5, 10],\n",
    "        'xgb__gamma': [0.5, 1, 1.5, 2],\n",
    "        'xgb__subsample': [0.6, 0.8, 1.0],\n",
    "        'xgb__colsample_bytree': [0.6, 0.8, 1.0],\n",
    "        'xgb__max_depth': [3, 4, 5]\n",
    "        }\n",
    "clf = GridSearchCV(xgbPipeline, hyperparameters, cv=10)\n",
    "clf.fit(Xtr, Ytr.ravel())\n",
    "joblib.dump(clf.best_estimator_, 'xgb_grid_model.pkl')\n",
    "joblib.dump(clf.best_params_, 'best_xgb_grid_params.pkl', compress = 1) # Only best parameters\n",
    "\n",
    "```"
   ]
  },
  {
   "cell_type": "markdown",
   "metadata": {},
   "source": [
    "## Loading xgb model"
   ]
  },
  {
   "cell_type": "code",
   "execution_count": 10,
   "metadata": {},
   "outputs": [],
   "source": [
    "import joblib\n",
    "xgbPipeline = joblib.load('xgb_grid_model.pkl')"
   ]
  },
  {
   "cell_type": "markdown",
   "metadata": {},
   "source": [
    "### Passing XGB after selecting best params"
   ]
  },
  {
   "cell_type": "code",
   "execution_count": 14,
   "metadata": {},
   "outputs": [
    {
     "name": "stdout",
     "output_type": "stream",
     "text": [
      "xgb score:  0.8684534812076402\n",
      "[0 0 0 ... 0 0 0]\n",
      "F1 weighted 0.8755090832965929\n",
      "AUC : 0.8056611943772053\n",
      "Classification report : \n",
      "              precision    recall  f1-score   support\n",
      "\n",
      "           0       0.90      0.95      0.92     22229\n",
      "           1       0.81      0.66      0.73      7086\n",
      "\n",
      "    accuracy                           0.88     29315\n",
      "   macro avg       0.85      0.81      0.82     29315\n",
      "weighted avg       0.88      0.88      0.88     29315\n",
      "\n",
      "[[21096  1133]\n",
      " [ 2393  4693]]\n",
      "None\n",
      "None\n"
     ]
    }
   ],
   "source": [
    "print(\"xgb score: \",xgbPipeline.score(Xva,Yva))\n",
    "print(auc(xgbPipeline,Xtr,Ytr))"
   ]
  },
  {
   "cell_type": "code",
   "execution_count": 13,
   "metadata": {},
   "outputs": [
    {
     "name": "stdout",
     "output_type": "stream",
     "text": [
      "[0 1 1 ... 0 1 1]\n",
      "F1 weighted 0.8641271465124886\n",
      "AUC : 0.7869094302402557\n",
      "Classification report : \n",
      "              precision    recall  f1-score   support\n",
      "\n",
      "           0       0.89      0.94      0.92      2491\n",
      "           1       0.76      0.63      0.69       755\n",
      "\n",
      "    accuracy                           0.87      3246\n",
      "   macro avg       0.83      0.79      0.80      3246\n",
      "weighted avg       0.86      0.87      0.86      3246\n",
      "\n",
      "[[2340  151]\n",
      " [ 276  479]]\n",
      "None\n",
      "None\n"
     ]
    }
   ],
   "source": [
    "print(auc(xgbPipeline,Xva,Yva))"
   ]
  },
  {
   "cell_type": "code",
   "execution_count": 16,
   "metadata": {},
   "outputs": [
    {
     "name": "stdout",
     "output_type": "stream",
     "text": [
      "[0 0 0 ... 0 0 1]\n",
      "F1 weighted 0.8743670780193409\n",
      "AUC : 0.8038329473969731\n",
      "Classification report : \n",
      "              precision    recall  f1-score   support\n",
      "\n",
      "           0       0.90      0.95      0.92     24719\n",
      "           1       0.80      0.66      0.72      7841\n",
      "\n",
      "    accuracy                           0.88     32560\n",
      "   macro avg       0.85      0.80      0.82     32560\n",
      "weighted avg       0.87      0.88      0.87     32560\n",
      "\n",
      "[[23435  1284]\n",
      " [ 2669  5172]]\n",
      "None\n",
      "None\n"
     ]
    }
   ],
   "source": [
    "print(auc(xgbPipeline, Xts, Yts))"
   ]
  }
 ],
 "metadata": {
  "kernelspec": {
   "display_name": "Python 3",
   "language": "python",
   "name": "python3"
  },
  "language_info": {
   "codemirror_mode": {
    "name": "ipython",
    "version": 3
   },
   "file_extension": ".py",
   "mimetype": "text/x-python",
   "name": "python",
   "nbconvert_exporter": "python",
   "pygments_lexer": "ipython3",
   "version": "3.6.5"
  }
 },
 "nbformat": 4,
 "nbformat_minor": 2
}
