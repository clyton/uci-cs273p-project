{
 "cells": [
  {
   "cell_type": "markdown",
   "metadata": {},
   "source": [
    "# Naive Bayes\n",
    "The inspiration for this method was drawn from the following stack overflow thread https://stackoverflow.com/a/14255284/3942200"
   ]
  },
  {
   "cell_type": "code",
   "execution_count": 44,
   "metadata": {},
   "outputs": [
    {
     "name": "stdout",
     "output_type": "stream",
     "text": [
      "(32560, 14)\n",
      "(32560, 1)\n"
     ]
    }
   ],
   "source": [
    "%run pipeline_utils.ipynb"
   ]
  },
  {
   "cell_type": "markdown",
   "metadata": {},
   "source": [
    "# Model Pipeline"
   ]
  },
  {
   "cell_type": "code",
   "execution_count": 52,
   "metadata": {},
   "outputs": [],
   "source": [
    "from sklearn.naive_bayes import GaussianNB\n",
    "from sklearn.preprocessing import KBinsDiscretizer\n",
    "\n",
    "import warnings\n",
    "warnings.filterwarnings('ignore')"
   ]
  },
  {
   "cell_type": "code",
   "execution_count": 53,
   "metadata": {},
   "outputs": [],
   "source": [
    "numP = Pipeline([\n",
    "    ('num', FunctionTransformer(select_number, validate=),\n",
    "    ('kbin',  KBinsDiscretizer(n_bins=6, encode='onehot')),\n",
    "])\n",
    "catP = Pipeline([\n",
    "    ('cat_transformer', cat_transformer),\n",
    "]) \n",
    "\n",
    "preprocess = FeatureUnion([\n",
    "    ('nump', numP),\n",
    "    ('catP', catP)\n",
    "])\n",
    "\n",
    "mnbP = Pipeline([\n",
    "    ('preprocess', preprocess),\n",
    "    ('mnb', MultinomialNB())\n",
    "])"
   ]
  },
  {
   "cell_type": "code",
   "execution_count": 54,
   "metadata": {},
   "outputs": [
    {
     "data": {
      "text/plain": [
       "Pipeline(memory=None,\n",
       "         steps=[('preprocess',\n",
       "                 FeatureUnion(n_jobs=None,\n",
       "                              transformer_list=[('nump',\n",
       "                                                 Pipeline(memory=None,\n",
       "                                                          steps=[('num',\n",
       "                                                                  Pipeline(memory=None,\n",
       "                                                                           steps=[('selector',\n",
       "                                                                                   FunctionTransformer(accept_sparse=False,\n",
       "                                                                                                       check_inverse=True,\n",
       "                                                                                                       func=<function select_number at 0x7f934426d9d8>,\n",
       "                                                                                                       inv_kw_args=None,\n",
       "                                                                                                       inverse_func=None,\n",
       "                                                                                                       kw_args=None,\n",
       "                                                                                                       pass_y='deprecated',\n",
       "                                                                                                       validate=F...\n",
       "                                                                                                 strategy='constant',\n",
       "                                                                                                 verbose=0)),\n",
       "                                                                                  ('one-hot-encoder',\n",
       "                                                                                   OneHotEncoder(categorical_features=None,\n",
       "                                                                                                 categories=None,\n",
       "                                                                                                 drop=None,\n",
       "                                                                                                 dtype=<class 'numpy.float64'>,\n",
       "                                                                                                 handle_unknown='ignore',\n",
       "                                                                                                 n_values=None,\n",
       "                                                                                                 sparse=True))],\n",
       "                                                                           verbose=False))],\n",
       "                                                          verbose=False))],\n",
       "                              transformer_weights=None, verbose=False)),\n",
       "                ('mnb',\n",
       "                 MultinomialNB(alpha=1.0, class_prior=None, fit_prior=True))],\n",
       "         verbose=False)"
      ]
     },
     "execution_count": 54,
     "metadata": {},
     "output_type": "execute_result"
    }
   ],
   "source": [
    "# gnbPipeline.fit(Xtr, Ytr.ravel())\n",
    "mnbP.fit(Xtr, Ytr.ravel())"
   ]
  },
  {
   "cell_type": "code",
   "execution_count": 55,
   "metadata": {},
   "outputs": [
    {
     "name": "stdout",
     "output_type": "stream",
     "text": [
      "[0 1 1 ... 0 0 1]\n",
      "F1 weighted 0.7896899093416567\n",
      "AUC : 0.7912710924892526\n",
      "Classification report : \n",
      "              precision    recall  f1-score   support\n",
      "\n",
      "           0       0.92      0.81      0.86      2491\n",
      "           1       0.55      0.77      0.64       755\n",
      "\n",
      "    accuracy                           0.80      3246\n",
      "   macro avg       0.74      0.79      0.75      3246\n",
      "weighted avg       0.84      0.80      0.81      3246\n",
      "\n",
      "[[2012  479]\n",
      " [ 170  585]]\n",
      "None\n"
     ]
    }
   ],
   "source": [
    "auc(mnbP, Xva, Yva)"
   ]
  },
  {
   "cell_type": "code",
   "execution_count": 56,
   "metadata": {},
   "outputs": [
    {
     "name": "stdout",
     "output_type": "stream",
     "text": [
      "[0 1 1 ... 0 0 1]\n",
      "F1 weighted 0.7896899093416567\n",
      "AUC : 0.7912710924892526\n",
      "Classification report : \n",
      "              precision    recall  f1-score   support\n",
      "\n",
      "           0       0.92      0.81      0.86      2491\n",
      "           1       0.55      0.77      0.64       755\n",
      "\n",
      "    accuracy                           0.80      3246\n",
      "   macro avg       0.74      0.79      0.75      3246\n",
      "weighted avg       0.84      0.80      0.81      3246\n",
      "\n",
      "[[2012  479]\n",
      " [ 170  585]]\n",
      "None\n"
     ]
    }
   ],
   "source": [
    "auc(mnbP, Xva, Yva)"
   ]
  },
  {
   "cell_type": "code",
   "execution_count": 57,
   "metadata": {},
   "outputs": [
    {
     "name": "stdout",
     "output_type": "stream",
     "text": [
      "[1 0 0 ... 0 0 1]\n",
      "F1 weighted 0.8016023425387041\n",
      "AUC : 0.7923494667487634\n",
      "Classification report : \n",
      "              precision    recall  f1-score   support\n",
      "\n",
      "           0       0.92      0.83      0.87     24719\n",
      "           1       0.58      0.76      0.66      7841\n",
      "\n",
      "    accuracy                           0.81     32560\n",
      "   macro avg       0.75      0.79      0.76     32560\n",
      "weighted avg       0.83      0.81      0.82     32560\n",
      "\n",
      "[[20402  4317]\n",
      " [ 1887  5954]]\n",
      "None\n"
     ]
    }
   ],
   "source": [
    "auc(mnbP, Xts, Yts)"
   ]
  }
 ],
 "metadata": {
  "kernelspec": {
   "display_name": "Python 3",
   "language": "python",
   "name": "python3"
  },
  "language_info": {
   "codemirror_mode": {
    "name": "ipython",
    "version": 3
   },
   "file_extension": ".py",
   "mimetype": "text/x-python",
   "name": "python",
   "nbconvert_exporter": "python",
   "pygments_lexer": "ipython3",
   "version": "3.7.1"
  }
 },
 "nbformat": 4,
 "nbformat_minor": 2
}
