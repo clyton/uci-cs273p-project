{
 "cells": [
  {
   "cell_type": "markdown",
   "metadata": {},
   "source": [
    "# Naive Bayes\n",
    "The inspiration for this method was drawn from the following stack overflow thread https://stackoverflow.com/a/14255284/3942200"
   ]
  },
  {
   "cell_type": "code",
   "execution_count": 76,
   "metadata": {},
   "outputs": [
    {
     "name": "stdout",
     "output_type": "stream",
     "text": [
      "(32560, 14)\n",
      "(32560, 1)\n"
     ]
    }
   ],
   "source": [
    "%run pipeline_utils.ipynb"
   ]
  },
  {
   "cell_type": "markdown",
   "metadata": {},
   "source": [
    "# Model Pipeline"
   ]
  },
  {
   "cell_type": "code",
   "execution_count": 83,
   "metadata": {},
   "outputs": [],
   "source": [
    "from sklearn.naive_bayes import GaussianNB\n",
    "from sklearn.naive_bayes import MultinomialNB\n",
    "from sklearn.preprocessing import KBinsDiscretizer\n",
    "\n",
    "import warnings\n",
    "warnings.filterwarnings('ignore')"
   ]
  },
  {
   "cell_type": "code",
   "execution_count": 78,
   "metadata": {},
   "outputs": [],
   "source": [
    "numP = Pipeline([\n",
    "    ('num', FunctionTransformer(select_number, validate=False)),\n",
    "    ('kbin',  KBinsDiscretizer(n_bins=10, encode='onehot')),\n",
    "])\n",
    "catP = Pipeline([\n",
    "    ('cat_transformer', cat_transformer),\n",
    "]) \n",
    "\n",
    "preprocess = FeatureUnion([\n",
    "    ('nump', numP),\n",
    "    ('catP', catP)\n",
    "])\n",
    "\n",
    "mnbP = Pipeline([\n",
    "    ('preprocess', preprocess),\n",
    "    ('mnb', MultinomialNB())\n",
    "])"
   ]
  },
  {
   "cell_type": "code",
   "execution_count": 79,
   "metadata": {},
   "outputs": [
    {
     "data": {
      "text/plain": [
       "Pipeline(memory=None,\n",
       "         steps=[('preprocess',\n",
       "                 FeatureUnion(n_jobs=None,\n",
       "                              transformer_list=[('nump',\n",
       "                                                 Pipeline(memory=None,\n",
       "                                                          steps=[('num',\n",
       "                                                                  FunctionTransformer(accept_sparse=False,\n",
       "                                                                                      check_inverse=True,\n",
       "                                                                                      func=<function select_number at 0x7f93408e00d0>,\n",
       "                                                                                      inv_kw_args=None,\n",
       "                                                                                      inverse_func=None,\n",
       "                                                                                      kw_args=None,\n",
       "                                                                                      pass_y='deprecated',\n",
       "                                                                                      validate=False)),\n",
       "                                                                 ('kbin',\n",
       "                                                                  KBinsDiscretizer(encode='...\n",
       "                                                                                                 strategy='constant',\n",
       "                                                                                                 verbose=0)),\n",
       "                                                                                  ('one-hot-encoder',\n",
       "                                                                                   OneHotEncoder(categorical_features=None,\n",
       "                                                                                                 categories=None,\n",
       "                                                                                                 drop=None,\n",
       "                                                                                                 dtype=<class 'numpy.float64'>,\n",
       "                                                                                                 handle_unknown='ignore',\n",
       "                                                                                                 n_values=None,\n",
       "                                                                                                 sparse=True))],\n",
       "                                                                           verbose=False))],\n",
       "                                                          verbose=False))],\n",
       "                              transformer_weights=None, verbose=False)),\n",
       "                ('mnb',\n",
       "                 MultinomialNB(alpha=1.0, class_prior=None, fit_prior=True))],\n",
       "         verbose=False)"
      ]
     },
     "execution_count": 79,
     "metadata": {},
     "output_type": "execute_result"
    }
   ],
   "source": [
    "# gnbPipeline.fit(Xtr, Ytr.ravel())\n",
    "mnbP.fit(Xtr, Ytr.ravel())"
   ]
  },
  {
   "cell_type": "code",
   "execution_count": 80,
   "metadata": {},
   "outputs": [
    {
     "name": "stdout",
     "output_type": "stream",
     "text": [
      "[1 1 1 ... 0 0 1]\n",
      "F1 weighted 0.8021456589362513\n",
      "AUC : 0.7928811612966088\n",
      "Classification report : \n",
      "              precision    recall  f1-score   support\n",
      "\n",
      "           0       0.92      0.83      0.87     22229\n",
      "           1       0.58      0.76      0.66      7086\n",
      "\n",
      "    accuracy                           0.81     29315\n",
      "   macro avg       0.75      0.79      0.76     29315\n",
      "weighted avg       0.83      0.81      0.82     29315\n",
      "\n",
      "[[18357  3872]\n",
      " [ 1701  5385]]\n",
      "None\n"
     ]
    }
   ],
   "source": [
    "auc(mnbP, Xtr, Ytr)"
   ]
  },
  {
   "cell_type": "code",
   "execution_count": 81,
   "metadata": {},
   "outputs": [
    {
     "name": "stdout",
     "output_type": "stream",
     "text": [
      "[0 1 1 ... 0 0 1]\n",
      "F1 weighted 0.7960940590983446\n",
      "AUC : 0.7969309381322429\n",
      "Classification report : \n",
      "              precision    recall  f1-score   support\n",
      "\n",
      "           0       0.92      0.81      0.87      2491\n",
      "           1       0.56      0.78      0.65       755\n",
      "\n",
      "    accuracy                           0.81      3246\n",
      "   macro avg       0.74      0.80      0.76      3246\n",
      "weighted avg       0.84      0.81      0.82      3246\n",
      "\n",
      "[[2027  464]\n",
      " [ 166  589]]\n",
      "None\n"
     ]
    }
   ],
   "source": [
    "auc(mnbP, Xva, Yva)"
   ]
  },
  {
   "cell_type": "code",
   "execution_count": 82,
   "metadata": {},
   "outputs": [
    {
     "name": "stdout",
     "output_type": "stream",
     "text": [
      "[1 0 0 ... 0 0 1]\n",
      "F1 weighted 0.8015402943266331\n",
      "AUC : 0.7932404945269305\n",
      "Classification report : \n",
      "              precision    recall  f1-score   support\n",
      "\n",
      "           0       0.92      0.82      0.87     24719\n",
      "           1       0.58      0.76      0.66      7841\n",
      "\n",
      "    accuracy                           0.81     32560\n",
      "   macro avg       0.75      0.79      0.76     32560\n",
      "weighted avg       0.84      0.81      0.82     32560\n",
      "\n",
      "[[20383  4336]\n",
      " [ 1867  5974]]\n",
      "None\n"
     ]
    }
   ],
   "source": [
    "auc(mnbP, Xts, Yts)"
   ]
  },
  {
   "cell_type": "code",
   "execution_count": null,
   "metadata": {},
   "outputs": [],
   "source": []
  },
  {
   "cell_type": "code",
   "execution_count": null,
   "metadata": {},
   "outputs": [],
   "source": []
  },
  {
   "cell_type": "code",
   "execution_count": null,
   "metadata": {},
   "outputs": [],
   "source": []
  }
 ],
 "metadata": {
  "kernelspec": {
   "display_name": "Python 3",
   "language": "python",
   "name": "python3"
  },
  "language_info": {
   "codemirror_mode": {
    "name": "ipython",
    "version": 3
   },
   "file_extension": ".py",
   "mimetype": "text/x-python",
   "name": "python",
   "nbconvert_exporter": "python",
   "pygments_lexer": "ipython3",
   "version": "3.6.5"
  }
 },
 "nbformat": 4,
 "nbformat_minor": 2
}
